{
 "cells": [
  {
   "cell_type": "code",
   "execution_count": 2,
   "metadata": {},
   "outputs": [],
   "source": [
    "%matplotlib inline\n",
    "import numpy as np\n",
    "import matplotlib.pyplot as plt\n",
    "from ipywidgets import interact"
   ]
  },
  {
   "cell_type": "markdown",
   "metadata": {},
   "source": [
    "ABCD矩陣 \n",
    "1. 輸入入射光參數$(x,\\theta)$ \n",
    "2. 選擇光學系統 \n",
    "3. 輸入光學系統參數\n",
    "4. 輸出\n",
    "\n",
    "\n",
    "直線行進<br>$np.array([1,d,0,1]).reshape(2,2)$\n",
    "\n",
    "薄透鏡<br>$np.array([1,0,-1/f,1]).reshape(2,2)$\n",
    "\n",
    "不同介質平面<br>$np.array([1,0,0,n1/n2]).reshape(2,2)$\n",
    "\n",
    "不同介質球面<br>$np.array([1,0,(n2-n1)/n2*R,n1/n2]).reshape(2,2)$\n",
    "\n",
    "球面鏡<br>$np.array([1,0,-2/R,1]).reshape(2,2)$\n",
    "\n",
    "漸變折射率介質<br>$np.array([np.cos(g*z),np.sin(g*z)/g,-g*np.sin(g*z),np.cos(g*z)]).reshape(2,2)$\n"
   ]
  },
  {
   "cell_type": "code",
   "execution_count": 58,
   "metadata": {},
   "outputs": [
    {
     "name": "stdout",
     "output_type": "stream",
     "text": [
      "x=3.7\n",
      "θ=45\n",
      "[[ 3.7      ]\n",
      " [32.4575188]]\n"
     ]
    }
   ],
   "source": [
    "##incident參數\n",
    "\n",
    "x=float(input(\"x=\"))\n",
    "θ=float(input(\"θ=\"))\n",
    "incident=np.array([x,θ]).reshape(2,1)\n",
    "\n",
    "##各種光學系統\n",
    "\n",
    "def propagate(d):\n",
    "    return np.array([1,d,0,1]).reshape(2,2)\n",
    "def thin_lens(f):\n",
    "    return np.array([1,0,-1/f,1]).reshape(2,2)\n",
    "def dielectric_plan(n1,n2):\n",
    "    return np.array([1,0,0,n1/n2]).reshape(2,2)\n",
    "def dielectric_sphere(n1,n2,R):\n",
    "    return np.array([1,0,(n2-n1)/n2*R,n1/n2]).reshape(2,2)\n",
    "def sphere(R):\n",
    "    return np.array([1,0,-2/R,1]).reshape(2,2)\n",
    "def quadratic(g,z):\n",
    "    return np.array([np.cos(g*z),np.sin(g*z)/g,-g*np.sin(g*z),np.cos(g*z)]).reshape(2,2)\n",
    "\n",
    "##output\n",
    "\n",
    "print(dielectric_sphere(1,1.33,-1.5).dot(incident))\n",
    "\n"
   ]
  },
  {
   "cell_type": "code",
   "execution_count": null,
   "metadata": {},
   "outputs": [],
   "source": []
  }
 ],
 "metadata": {
  "kernelspec": {
   "display_name": "Python 3",
   "language": "python",
   "name": "python3"
  },
  "language_info": {
   "codemirror_mode": {
    "name": "ipython",
    "version": 3
   },
   "file_extension": ".py",
   "mimetype": "text/x-python",
   "name": "python",
   "nbconvert_exporter": "python",
   "pygments_lexer": "ipython3",
   "version": "3.6.5"
  }
 },
 "nbformat": 4,
 "nbformat_minor": 2
}
