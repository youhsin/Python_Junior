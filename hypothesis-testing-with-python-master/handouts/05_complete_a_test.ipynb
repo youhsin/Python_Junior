{
 "cells": [
  {
   "cell_type": "markdown",
   "metadata": {
    "toc": true
   },
   "source": [
    "<h1>Table of Contents<span class=\"tocSkip\"></span></h1>\n",
    "<div class=\"toc\"><ul class=\"toc-item\"><li><span><a href=\"#Setup\" data-toc-modified-id=\"Setup-1\"><span class=\"toc-item-num\">1&nbsp;&nbsp;</span>Setup</a></span></li><li><span><a href=\"#Inverse-α-&amp;-Inverse-β\" data-toc-modified-id=\"Inverse-α-&amp;-Inverse-β-2\"><span class=\"toc-item-num\">2&nbsp;&nbsp;</span>Inverse α &amp; Inverse β</a></span></li><li><span><a href=\"#Calculate-by-Statsmodels\" data-toc-modified-id=\"Calculate-by-Statsmodels-3\"><span class=\"toc-item-num\">3&nbsp;&nbsp;</span>Calculate by Statsmodels</a></span><ul class=\"toc-item\"><li><span><a href=\"#Beta\" data-toc-modified-id=\"Beta-3.1\"><span class=\"toc-item-num\">3.1&nbsp;&nbsp;</span>Beta</a></span></li><li><span><a href=\"#Raw-Effect-Size\" data-toc-modified-id=\"Raw-Effect-Size-3.2\"><span class=\"toc-item-num\">3.2&nbsp;&nbsp;</span>Raw Effect Size</a></span></li><li><span><a href=\"#Sample-Size\" data-toc-modified-id=\"Sample-Size-3.3\"><span class=\"toc-item-num\">3.3&nbsp;&nbsp;</span>Sample Size</a></span></li></ul></li><li><span><a href=\"#Calculate-by-Simulation\" data-toc-modified-id=\"Calculate-by-Simulation-4\"><span class=\"toc-item-num\">4&nbsp;&nbsp;</span>Calculate by Simulation</a></span><ul class=\"toc-item\"><li><span><a href=\"#Beta\" data-toc-modified-id=\"Beta-4.1\"><span class=\"toc-item-num\">4.1&nbsp;&nbsp;</span>Beta</a></span></li><li><span><a href=\"#Raw-Effect-Size\" data-toc-modified-id=\"Raw-Effect-Size-4.2\"><span class=\"toc-item-num\">4.2&nbsp;&nbsp;</span>Raw Effect Size</a></span></li><li><span><a href=\"#Sample-Size\" data-toc-modified-id=\"Sample-Size-4.3\"><span class=\"toc-item-num\">4.3&nbsp;&nbsp;</span>Sample Size</a></span></li></ul></li></ul></div>"
   ]
  },
  {
   "cell_type": "code",
   "execution_count": 1,
   "metadata": {},
   "outputs": [],
   "source": [
    "%matplotlib inline\n",
    "import numpy as np\n",
    "import scipy as sp\n",
    "import pandas as pd\n",
    "import statsmodels.api as sm\n",
    "import statsmodels.formula.api as smf\n",
    "import matplotlib as mpl\n",
    "import matplotlib.pyplot as plt\n",
    "import seaborn as sns\n",
    "import IPython as ip\n",
    "mpl.style.use('ggplot')\n",
    "mpl.rc('font', family='Noto Sans CJK TC')\n",
    "ip.display.set_matplotlib_formats('svg')"
   ]
  },
  {
   "cell_type": "markdown",
   "metadata": {},
   "source": [
    "# Setup"
   ]
  },
  {
   "cell_type": "code",
   "execution_count": 2,
   "metadata": {},
   "outputs": [],
   "source": [
    "anr = 0.5  # actual negative rate\n",
    "alpha = 0.05\n",
    "beta = 0.2\n",
    "\n",
    "# n: sample size\n",
    "n_1 = 100\n",
    "n_2 = 100\n",
    "\n",
    "# sm: sample mean\n",
    "# ss: sample standard deviation\n",
    "sm_1 = 170\n",
    "ss_1 = 5\n",
    "sm_2 = 170+2\n",
    "ss_2 = 5\n",
    "\n",
    "# https://en.wikipedia.org/wiki/Effect_size#Cohen's_d\n",
    "raw_effect_size = sm_2-sm_1\n",
    "ss_pooled = np.sqrt(\n",
    "    ((n_1-1)*ss_1**2 + (n_2-1)*ss_2**2) /\n",
    "    (n_1+n_2-2)\n",
    ")\n",
    "cohen_effect_size = raw_effect_size / ss_pooled"
   ]
  },
  {
   "cell_type": "markdown",
   "metadata": {},
   "source": [
    "# Inverse α & Inverse β\n",
    "\n",
    "$\n",
    "{\\displaystyle \\text{false discovery rate} = \\frac{ \\text{false positive rate} \\cdot \\text{actual negative rate} }{\\text{predicted positive rate}}}\n",
    "$\n",
    "\n",
    "$\n",
    "{\\displaystyle \\text{false omission rate} = \\frac{ \\text{false negative rate} \\cdot \\text{actual positive rate} }{\\text{predicted negative rate}}}\n",
    "$\n",
    "\n",
    "$\n",
    "{\\displaystyle \\text{inverse }\\alpha = \\frac{ \\alpha \\cdot \\text{actual negative rate} }{\\text{predicted positive rate}}}\n",
    "$\n",
    "\n",
    "$\n",
    "{\\displaystyle \\text{inverse }\\beta = \\frac{ \\beta \\cdot \\text{actual positive rate} }{\\text{predicted negative rate}}}\n",
    "$"
   ]
  },
  {
   "cell_type": "code",
   "execution_count": 3,
   "metadata": {},
   "outputs": [
    {
     "name": "stdout",
     "output_type": "stream",
     "text": [
      "0.058823529411764705\n",
      "0.1739130434782609\n"
     ]
    }
   ],
   "source": [
    "# anr = 0.95\n",
    "# alpha = 0.05\n",
    "# beta = 0.05\n",
    "# # inverse_alpha -> 0.5000\n",
    "# # inverse_beta -> 0.0028\n",
    "\n",
    "# anr = 0.995\n",
    "# alpha = 0.01\n",
    "# beta = 0.01\n",
    "# # inverse_alpha -> 0.6678\n",
    "# # inverse_beta -> 0.00005\n",
    "\n",
    "apr = 1-anr  # actual positive rate\n",
    "power = 1-beta\n",
    "cl = 1-alpha  # confidence level\n",
    "\n",
    "ppr = alpha*anr + power*apr  # predicted positive rate = P(+) = P(+|H_0)*P(H_0)+P(+|H_1)*P(H_1)\n",
    "pnr = cl*anr + beta*apr  # predicted positive rate = P(-)\n",
    "\n",
    "inverse_alpha = alpha*anr / ppr\n",
    "inverse_beta = beta*apr / pnr\n",
    "\n",
    "print(inverse_alpha)\n",
    "print(inverse_beta)"
   ]
  },
  {
   "cell_type": "markdown",
   "metadata": {},
   "source": [
    "# Calculate by Statsmodels"
   ]
  },
  {
   "cell_type": "markdown",
   "metadata": {},
   "source": [
    "## Beta"
   ]
  },
  {
   "cell_type": "code",
   "execution_count": 4,
   "metadata": {},
   "outputs": [
    {
     "name": "stdout",
     "output_type": "stream",
     "text": [
      "CPU times: user 1.05 ms, sys: 524 µs, total: 1.58 ms\n",
      "Wall time: 1.13 ms\n"
     ]
    },
    {
     "data": {
      "text/plain": [
       "0.19635250345692312"
      ]
     },
     "execution_count": 4,
     "metadata": {},
     "output_type": "execute_result"
    }
   ],
   "source": [
    "%%time\n",
    "1-sm.stats.tt_ind_solve_power(\n",
    "    alpha=alpha,\n",
    "    effect_size=cohen_effect_size,\n",
    "    nobs1=n_1,\n",
    "    ratio=n_2/n_1,\n",
    "    power=None,\n",
    ")"
   ]
  },
  {
   "cell_type": "markdown",
   "metadata": {},
   "source": [
    "## Raw Effect Size"
   ]
  },
  {
   "cell_type": "code",
   "execution_count": 5,
   "metadata": {},
   "outputs": [
    {
     "name": "stdout",
     "output_type": "stream",
     "text": [
      "CPU times: user 5.89 ms, sys: 1.53 ms, total: 7.43 ms\n",
      "Wall time: 6.08 ms\n"
     ]
    },
    {
     "data": {
      "text/plain": [
       "1.9906955869556378"
      ]
     },
     "execution_count": 5,
     "metadata": {},
     "output_type": "execute_result"
    }
   ],
   "source": [
    "%%time\n",
    "sm.stats.tt_ind_solve_power(\n",
    "    alpha=alpha,\n",
    "    power=1-beta,\n",
    "    effect_size=None,\n",
    "    nobs1=n_1,\n",
    "    ratio=n_2/n_1,\n",
    ")*ss_pooled"
   ]
  },
  {
   "cell_type": "markdown",
   "metadata": {},
   "source": [
    "## Sample Size"
   ]
  },
  {
   "cell_type": "code",
   "execution_count": 6,
   "metadata": {},
   "outputs": [
    {
     "name": "stdout",
     "output_type": "stream",
     "text": [
      "CPU times: user 7.78 ms, sys: 2.01 ms, total: 9.79 ms\n",
      "Wall time: 8.1 ms\n"
     ]
    },
    {
     "data": {
      "text/plain": [
       "99.08032683981143"
      ]
     },
     "execution_count": 6,
     "metadata": {},
     "output_type": "execute_result"
    }
   ],
   "source": [
    "%%time\n",
    "sm.stats.tt_ind_solve_power(\n",
    "    alpha=alpha,\n",
    "    power=1-beta,\n",
    "    effect_size=cohen_effect_size,\n",
    "    ratio=1, # = n_2 / n_1\n",
    "    nobs1=None,\n",
    ")"
   ]
  },
  {
   "cell_type": "markdown",
   "metadata": {},
   "source": [
    "# Calculate by Simulation"
   ]
  },
  {
   "cell_type": "code",
   "execution_count": 7,
   "metadata": {},
   "outputs": [],
   "source": [
    "n_sim = 1000"
   ]
  },
  {
   "cell_type": "markdown",
   "metadata": {},
   "source": [
    "## Beta"
   ]
  },
  {
   "cell_type": "code",
   "execution_count": 8,
   "metadata": {},
   "outputs": [
    {
     "name": "stdout",
     "output_type": "stream",
     "text": [
      "0.214\n",
      "CPU times: user 10.6 ms, sys: 2.26 ms, total: 12.8 ms\n",
      "Wall time: 11.1 ms\n"
     ]
    }
   ],
   "source": [
    "%%time\n",
    "np.random.seed(20180702)\n",
    "sample_1_m = sp.stats.norm.rvs(loc=sm_1, scale=ss_1, size=(n_1, n_sim))\n",
    "sample_2_m = sp.stats.norm.rvs(loc=sm_2, scale=ss_2, size=(n_2, n_sim))\n",
    "beta = (sp.stats.ttest_ind(sample_1_m, sample_2_m).pvalue >= alpha).sum() / n_sim\n",
    "print(beta)"
   ]
  },
  {
   "cell_type": "markdown",
   "metadata": {},
   "source": [
    "## Raw Effect Size"
   ]
  },
  {
   "cell_type": "code",
   "execution_count": 9,
   "metadata": {},
   "outputs": [],
   "source": [
    "def calc_beta_given_raw_effect_size(x):\n",
    "    np.random.seed(20180702)\n",
    "    sample_1_m = sp.stats.norm.rvs(loc=sm_1, scale=ss_1, size=(n_1, n_sim))\n",
    "    # assume the sample 2 has the sample standard deviation\n",
    "    sample_2_m = sp.stats.norm.rvs(loc=sm_1+x, scale=ss_1, size=(n_2, n_sim))\n",
    "    beta = (sp.stats.ttest_ind(sample_1_m, sample_2_m).pvalue >= alpha).sum() / n_sim\n",
    "    return beta"
   ]
  },
  {
   "cell_type": "code",
   "execution_count": 10,
   "metadata": {},
   "outputs": [
    {
     "name": "stdout",
     "output_type": "stream",
     "text": [
      "CPU times: user 49.9 ms, sys: 1.91 ms, total: 51.8 ms\n",
      "Wall time: 50.5 ms\n"
     ]
    },
    {
     "data": {
      "text/plain": [
       "1.995603474483318"
      ]
     },
     "execution_count": 10,
     "metadata": {},
     "output_type": "execute_result"
    }
   ],
   "source": [
    "%%time\n",
    "# === given required beta, find the raw effect size between 3 and 0\n",
    "sp.optimize.brentq(\n",
    "    lambda x: calc_beta_given_raw_effect_size(x)-beta,\n",
    "    3, 0\n",
    ")"
   ]
  },
  {
   "cell_type": "markdown",
   "metadata": {},
   "source": [
    "## Sample Size"
   ]
  },
  {
   "cell_type": "code",
   "execution_count": 11,
   "metadata": {},
   "outputs": [],
   "source": [
    "def calc_beta_given_sample_size(x):\n",
    "    np.random.seed(20180702)\n",
    "    sample_1_m = sp.stats.norm.rvs(loc=sm_1, scale=ss_1, size=(int(x), n_sim))\n",
    "    sample_2_m = sp.stats.norm.rvs(loc=sm_2, scale=ss_2, size=(int(x), n_sim))\n",
    "    beta = (sp.stats.ttest_ind(sample_1_m, sample_2_m).pvalue >= alpha).sum() / n_sim\n",
    "    return beta"
   ]
  },
  {
   "cell_type": "code",
   "execution_count": 12,
   "metadata": {},
   "outputs": [
    {
     "name": "stdout",
     "output_type": "stream",
     "text": [
      "CPU times: user 28.4 ms, sys: 1.98 ms, total: 30.4 ms\n",
      "Wall time: 28.9 ms\n"
     ]
    },
    {
     "data": {
      "text/plain": [
       "100.89011695437664"
      ]
     },
     "execution_count": 12,
     "metadata": {},
     "output_type": "execute_result"
    }
   ],
   "source": [
    "%%time\n",
    "# === given required beta, find the sample size between 120, 80\n",
    "sp.optimize.brentq(\n",
    "    lambda x: calc_beta_given_sample_size(x)-beta,\n",
    "    120, 80\n",
    ")"
   ]
  }
 ],
 "metadata": {
  "kernelspec": {
   "display_name": "Python 3 (data-science-with-python)",
   "language": "python",
   "name": "python3-data-science-with-python"
  },
  "language_info": {
   "codemirror_mode": {
    "name": "ipython",
    "version": 3
   },
   "file_extension": ".py",
   "mimetype": "text/x-python",
   "name": "python",
   "nbconvert_exporter": "python",
   "pygments_lexer": "ipython3",
   "version": "3.6.5"
  },
  "toc": {
   "base_numbering": 1,
   "nav_menu": {},
   "number_sections": true,
   "sideBar": true,
   "skip_h1_title": false,
   "title_cell": "Table of Contents",
   "title_sidebar": "Contents",
   "toc_cell": true,
   "toc_position": {},
   "toc_section_display": "block",
   "toc_window_display": false
  }
 },
 "nbformat": 4,
 "nbformat_minor": 2
}
