{
 "cells": [
  {
   "cell_type": "markdown",
   "metadata": {
    "toc": true
   },
   "source": [
    "<h1>Table of Contents<span class=\"tocSkip\"></span></h1>\n",
    "<div class=\"toc\"><ul class=\"toc-item\"><li><span><a href=\"#Fisher's-Exact-Test\" data-toc-modified-id=\"Fisher's-Exact-Test-1\"><span class=\"toc-item-num\">1&nbsp;&nbsp;</span>Fisher's Exact Test</a></span></li><li><span><a href=\"#Chi-Square-Test-of-Independence\" data-toc-modified-id=\"Chi-Square-Test-of-Independence-2\"><span class=\"toc-item-num\">2&nbsp;&nbsp;</span>Chi-Square Test of Independence</a></span></li><li><span><a href=\"#Wilcoxon-Signed-Rank-Test\" data-toc-modified-id=\"Wilcoxon-Signed-Rank-Test-3\"><span class=\"toc-item-num\">3&nbsp;&nbsp;</span>Wilcoxon Signed-Rank Test</a></span></li><li><span><a href=\"#Mann–Whitney-U-test\" data-toc-modified-id=\"Mann–Whitney-U-test-4\"><span class=\"toc-item-num\">4&nbsp;&nbsp;</span>Mann–Whitney U test</a></span></li><li><span><a href=\"#Welch's-T-Test\" data-toc-modified-id=\"Welch's-T-Test-5\"><span class=\"toc-item-num\">5&nbsp;&nbsp;</span>Welch's T-Test</a></span></li><li><span><a href=\"#Paired-Student's-T-test\" data-toc-modified-id=\"Paired-Student's-T-test-6\"><span class=\"toc-item-num\">6&nbsp;&nbsp;</span>Paired Student's T-test</a></span></li></ul></div>"
   ]
  },
  {
   "cell_type": "code",
   "execution_count": 1,
   "metadata": {},
   "outputs": [],
   "source": [
    "%matplotlib inline\n",
    "import numpy as np\n",
    "import scipy as sp\n",
    "import pandas as pd\n",
    "import statsmodels.api as sm\n",
    "import statsmodels.formula.api as smf\n",
    "import matplotlib as mpl\n",
    "import matplotlib.pyplot as plt\n",
    "import seaborn as sns\n",
    "import IPython as ip\n",
    "mpl.style.use('ggplot')\n",
    "mpl.rc('font', family='Noto Sans CJK TC')\n",
    "ip.display.set_matplotlib_formats('svg')"
   ]
  },
  {
   "cell_type": "code",
   "execution_count": 2,
   "metadata": {},
   "outputs": [],
   "source": [
    "np.random.seed(20180701)"
   ]
  },
  {
   "cell_type": "markdown",
   "metadata": {},
   "source": [
    "# Fisher's Exact Test"
   ]
  },
  {
   "cell_type": "code",
   "execution_count": 3,
   "metadata": {},
   "outputs": [],
   "source": [
    "# sp.stats.f(...)\n",
    "# # or\n",
    "# from scipy import stats\n",
    "# stats.f(...)"
   ]
  },
  {
   "cell_type": "code",
   "execution_count": 4,
   "metadata": {},
   "outputs": [
    {
     "data": {
      "text/plain": [
       "(0.43434343434343436, 0.23915695682224306)"
      ]
     },
     "execution_count": 4,
     "metadata": {},
     "output_type": "execute_result"
    }
   ],
   "source": [
    "sp.stats.fisher_exact([\n",
    "    # right-handed, left-handed\n",
    "    [43, 9],  # men\n",
    "    [44, 4],  # women\n",
    "])\n",
    "# -> (odds ratio, p-value)"
   ]
  },
  {
   "cell_type": "code",
   "execution_count": 5,
   "metadata": {},
   "outputs": [],
   "source": [
    "# # odds ratio (OR, 勝算比)\n",
    "# (43/9) / (44/4)\n",
    "# # -> 0.4343434343434343\n",
    "\n",
    "# # odds (勝算)\n",
    "# 43/9\n",
    "# # -> 4.777777777777778\n",
    "\n",
    "# # risk ratio (RR, relative risk, 相對風險)\n",
    "# (9/(43+9)) / (4/(44+4))\n",
    "# # -> 2.076923076923077"
   ]
  },
  {
   "cell_type": "code",
   "execution_count": 6,
   "metadata": {},
   "outputs": [
    {
     "data": {
      "text/plain": [
       "(0.07142857142857142, 0.028101929030721572)"
      ]
     },
     "execution_count": 6,
     "metadata": {},
     "output_type": "execute_result"
    }
   ],
   "source": [
    "sp.stats.fisher_exact([\n",
    "    # studying, no-studying\n",
    "    [1, 8],  # men\n",
    "    [7, 4],  # women\n",
    "])"
   ]
  },
  {
   "cell_type": "code",
   "execution_count": 7,
   "metadata": {},
   "outputs": [],
   "source": [
    "# # odds ratio\n",
    "# (1/8) / (7/4)\n",
    "# # -> 0.07142857142857142"
   ]
  },
  {
   "cell_type": "markdown",
   "metadata": {},
   "source": [
    "# Chi-Square Test of Independence"
   ]
  },
  {
   "cell_type": "code",
   "execution_count": 8,
   "metadata": {},
   "outputs": [
    {
     "data": {
      "text/plain": [
       "(1.7774150400145103, 0.1824670652605479, 1, array([[45.24,  6.76],\n",
       "        [41.76,  6.24]]))"
      ]
     },
     "execution_count": 8,
     "metadata": {},
     "output_type": "execute_result"
    }
   ],
   "source": [
    "# recommend not to use Yates's correction\n",
    "sp.stats.chi2_contingency([\n",
    "    # right-handed, left-handed\n",
    "    [43, 9],  # men\n",
    "    [44, 4],  # women\n",
    "], correction=False)\n",
    "# -> (\n",
    "#     chi-squared, p-value,\n",
    "#     degrees of freedom, expected frequencies\n",
    "# )"
   ]
  },
  {
   "cell_type": "code",
   "execution_count": 9,
   "metadata": {},
   "outputs": [
    {
     "data": {
      "text/plain": [
       "45.24"
      ]
     },
     "execution_count": 9,
     "metadata": {},
     "output_type": "execute_result"
    }
   ],
   "source": [
    "# expected frequency\n",
    "(43+9)/(43+9+44+4) * (43+44)"
   ]
  },
  {
   "cell_type": "code",
   "execution_count": 10,
   "metadata": {},
   "outputs": [
    {
     "data": {
      "text/plain": [
       "(5.6902356902356885, 0.017059563200794218, 1, array([[3.6, 5.4],\n",
       "        [4.4, 6.6]]))"
      ]
     },
     "execution_count": 10,
     "metadata": {},
     "output_type": "execute_result"
    }
   ],
   "source": [
    "sp.stats.chi2_contingency([\n",
    "    # studying, no-studying\n",
    "    [1, 8],  # men\n",
    "    [7, 4],  # women\n",
    "], correction=False)"
   ]
  },
  {
   "cell_type": "code",
   "execution_count": 11,
   "metadata": {},
   "outputs": [
    {
     "data": {
      "text/plain": [
       "3.6"
      ]
     },
     "execution_count": 11,
     "metadata": {},
     "output_type": "execute_result"
    }
   ],
   "source": [
    "# expected frequency\n",
    "(1+8)/(1+8+7+4) * (1+7)"
   ]
  },
  {
   "cell_type": "markdown",
   "metadata": {},
   "source": [
    "Since Fisher's exact test is based on the exact [hypergeometric](https://en.wikipedia.org/wiki/Hypergeometric_distribution) distribution (n draws without replacement), the p-values are the exact probabilities. The p-values of chi-squared tests are less than Fisher's exact tests, which imply the higher chances to get false positive results, in another word, worse.\n",
    "\n",
    "However, Fisher's exact test requires much more computation, and chi-squared test approximates greatly when sample size is large, so choose between them by the sample size."
   ]
  },
  {
   "cell_type": "markdown",
   "metadata": {},
   "source": [
    "# Wilcoxon Signed-Rank Test"
   ]
  },
  {
   "cell_type": "code",
   "execution_count": 12,
   "metadata": {},
   "outputs": [
    {
     "data": {
      "text/plain": [
       "(array([   2706094497551,                2,             6912,\n",
       "                     456,              454,           782392,\n",
       "                    2141,           528962,       1156649224,\n",
       "               106258447, 2061749587818853,               47]),\n",
       " array([   5412188995102,                4,            13824,\n",
       "                     912,              908,          1564784,\n",
       "                    4282,          1057924,       2313298448,\n",
       "               212516894, 4123499175637706,               94]))"
      ]
     },
     "execution_count": 12,
     "metadata": {},
     "output_type": "execute_result"
    }
   ],
   "source": [
    "# https://en.wikipedia.org/wiki/Zipf%27s_law\n",
    "#\n",
    "# Zipf's law states that given some corpus of natural language utterances, the \n",
    "# frequency of any word is inversely proportional to its rank in the frequency \n",
    "# table.\n",
    "#\n",
    "# Like the discrete Pareto (power-law) distribution.\n",
    "#\n",
    "# the two groups are paired and different\n",
    "group_ctl = sp.stats.zipf.rvs(loc=0, a=1.01, size=12)\n",
    "group_exp = group_ctl*2  # some treatment effect\n",
    "group_ctl, group_exp"
   ]
  },
  {
   "cell_type": "code",
   "execution_count": 13,
   "metadata": {},
   "outputs": [
    {
     "name": "stdout",
     "output_type": "stream",
     "text": [
      "Wilcoxon signed-rank test  0.0022  True\n",
      "Mann–Whitney U test        0.3325  False\n",
      "Paired Student's t-rest    0.3381  False\n",
      "Student's t-test           0.6586  False\n",
      "Welch's t-test             0.6602  False\n"
     ]
    }
   ],
   "source": [
    "name_pvalue_pairs = [\n",
    "    (\"Student's t-test\", sp.stats.ttest_ind(group_ctl, group_exp).pvalue),\n",
    "    (\"Welch's t-test\", sp.stats.ttest_ind(group_ctl, group_exp, equal_var=False).pvalue),\n",
    "    (\"Paired Student's t-rest\", sp.stats.ttest_rel(group_ctl, group_exp).pvalue),\n",
    "    ('Mann–Whitney U test', sp.stats.mannwhitneyu(group_ctl, group_exp).pvalue),\n",
    "    ('Wilcoxon signed-rank test', sp.stats.wilcoxon(group_ctl, group_exp).pvalue),\n",
    "]\n",
    "name_pvalue_pairs.sort(key=lambda x: x[1])\n",
    "\n",
    "for name, p_value in name_pvalue_pairs:\n",
    "    print(f'{name:26} {p_value:.4f}  {p_value < 0.05}')"
   ]
  },
  {
   "cell_type": "markdown",
   "metadata": {},
   "source": [
    "Only Wilcoxon signed-rank test is correct."
   ]
  },
  {
   "cell_type": "markdown",
   "metadata": {},
   "source": [
    "# Mann–Whitney U test"
   ]
  },
  {
   "cell_type": "code",
   "execution_count": 14,
   "metadata": {},
   "outputs": [],
   "source": [
    "# the two groups are the same\n",
    "group_ctl = [11, 22, 33, 44, 55, 66, 77]\n",
    "group_exp = [11, 22, 33, 44, 55, 66, 7700]  # contains an outlier "
   ]
  },
  {
   "cell_type": "code",
   "execution_count": 15,
   "metadata": {},
   "outputs": [
    {
     "name": "stdout",
     "output_type": "stream",
     "text": [
      "Wilcoxon signed-rank test  0.3173  False\n",
      "Student's t-test           0.3394  False\n",
      "Paired Student's t-rest    0.3559  False\n",
      "Welch's t-test             0.3582  False\n",
      "Mann–Whitney U test        0.5000  False\n"
     ]
    },
    {
     "name": "stderr",
     "output_type": "stream",
     "text": [
      "/Users/mosky/.local/share/virtualenvs/data-science-with-python-JMAT8Joy/lib/python3.6/site-packages/scipy/stats/morestats.py:2388: UserWarning: Warning: sample size too small for normal approximation.\n",
      "  warnings.warn(\"Warning: sample size too small for normal approximation.\")\n"
     ]
    }
   ],
   "source": [
    "name_pvalue_pairs = [\n",
    "    (\"Student's t-test\", sp.stats.ttest_ind(group_ctl, group_exp).pvalue),\n",
    "    (\"Welch's t-test\", sp.stats.ttest_ind(group_ctl, group_exp, equal_var=False).pvalue),\n",
    "    (\"Paired Student's t-rest\", sp.stats.ttest_rel(group_ctl, group_exp).pvalue),\n",
    "    ('Mann–Whitney U test', sp.stats.mannwhitneyu(group_ctl, group_exp).pvalue),\n",
    "    ('Wilcoxon signed-rank test', sp.stats.wilcoxon(group_ctl, group_exp).pvalue),\n",
    "]\n",
    "name_pvalue_pairs.sort(key=lambda x: x[1])\n",
    "\n",
    "for name, p_value in name_pvalue_pairs:\n",
    "    print(f'{name:26} {p_value:.4f}  {p_value < 0.05}')"
   ]
  },
  {
   "cell_type": "markdown",
   "metadata": {},
   "source": [
    "All tests are correct, but Mann–Whitney U test shows the capacity against the outliers (the p-value is greatest)."
   ]
  },
  {
   "cell_type": "markdown",
   "metadata": {},
   "source": [
    "# Welch's T-Test"
   ]
  },
  {
   "cell_type": "code",
   "execution_count": 16,
   "metadata": {},
   "outputs": [],
   "source": [
    "# the two groups are the same\n",
    "group_ctl = sp.stats.norm.rvs(loc=170, scale=5, size=100)\n",
    "group_exp = sp.stats.norm.rvs(loc=170, scale=5, size=3)  # the only difference is the group size"
   ]
  },
  {
   "cell_type": "code",
   "execution_count": 17,
   "metadata": {},
   "outputs": [
    {
     "name": "stdout",
     "output_type": "stream",
     "text": [
      "Student's t-test           0.1468  False\n",
      "Mann–Whitney U test        0.2556  False\n",
      "Welch's t-test             0.5563  False\n"
     ]
    }
   ],
   "source": [
    "name_pvalue_pairs = [\n",
    "    (\"Student's t-test\", sp.stats.ttest_ind(group_ctl, group_exp).pvalue),\n",
    "    (\"Welch's t-test\", sp.stats.ttest_ind(group_ctl, group_exp, equal_var=False).pvalue),\n",
    "    # (\"Paired Student's t-rest\", sp.stats.ttest_rel(group_ctl, group_exp).pvalue),  # requires equal lens\n",
    "    ('Mann–Whitney U test', sp.stats.mannwhitneyu(group_ctl, group_exp).pvalue),\n",
    "    # ('Wilcoxon signed-rank test', sp.stats.wilcoxon(group_ctl, group_exp).pvalue),  # requires equal lens\n",
    "]\n",
    "name_pvalue_pairs.sort(key=lambda x: x[1])\n",
    "\n",
    "for name, p_value in name_pvalue_pairs:\n",
    "    print(f'{name:26} {p_value:.4f}  {p_value < 0.05}')"
   ]
  },
  {
   "cell_type": "markdown",
   "metadata": {},
   "source": [
    "All tests are correct, but Welch's t-test shows the capacity against the different group size (unequal variance) (the p-value is greatest)."
   ]
  },
  {
   "cell_type": "markdown",
   "metadata": {},
   "source": [
    "# Paired Student's T-test"
   ]
  },
  {
   "cell_type": "code",
   "execution_count": 18,
   "metadata": {},
   "outputs": [],
   "source": [
    "# the two groups are different\n",
    "group_ctl = sp.stats.norm.rvs(loc=170, scale=5, size=100)\n",
    "# ctl + norm.rvs(...) === ctl + some treatment effect\n",
    "group_exp = group_ctl + sp.stats.norm.rvs(loc=1, scale=1, size=100)"
   ]
  },
  {
   "cell_type": "code",
   "execution_count": 19,
   "metadata": {},
   "outputs": [
    {
     "name": "stdout",
     "output_type": "stream",
     "text": [
      "Paired Student's t-rest    0.0000  True\n",
      "Wilcoxon signed-rank test  0.0000  True\n",
      "Mann–Whitney U test        0.0428  True\n",
      "Student's t-test           0.0993  False\n",
      "Welch's t-test             0.0993  False\n"
     ]
    }
   ],
   "source": [
    "name_pvalue_pairs = [\n",
    "    (\"Student's t-test\", sp.stats.ttest_ind(group_ctl, group_exp).pvalue),\n",
    "    (\"Welch's t-test\", sp.stats.ttest_ind(group_ctl, group_exp, equal_var=False).pvalue),\n",
    "    (\"Paired Student's t-rest\", sp.stats.ttest_rel(group_ctl, group_exp).pvalue),\n",
    "    ('Mann–Whitney U test', sp.stats.mannwhitneyu(group_ctl, group_exp).pvalue),\n",
    "    ('Wilcoxon signed-rank test', sp.stats.wilcoxon(group_ctl, group_exp).pvalue),\n",
    "]\n",
    "name_pvalue_pairs.sort(key=lambda x: x[1])\n",
    "\n",
    "for name, p_value in name_pvalue_pairs:\n",
    "    print(f'{name:26} {p_value:.4f}  {p_value < 0.05}')"
   ]
  },
  {
   "cell_type": "markdown",
   "metadata": {},
   "source": [
    "The independent tests can't (or hard to) detect the effect in the paired samples."
   ]
  }
 ],
 "metadata": {
  "kernelspec": {
   "display_name": "Python 3 (data-science-with-python)",
   "language": "python",
   "name": "python3-data-science-with-python"
  },
  "language_info": {
   "codemirror_mode": {
    "name": "ipython",
    "version": 3
   },
   "file_extension": ".py",
   "mimetype": "text/x-python",
   "name": "python",
   "nbconvert_exporter": "python",
   "pygments_lexer": "ipython3",
   "version": "3.6.5"
  },
  "toc": {
   "base_numbering": 1,
   "nav_menu": {},
   "number_sections": true,
   "sideBar": true,
   "skip_h1_title": false,
   "title_cell": "Table of Contents",
   "title_sidebar": "Contents",
   "toc_cell": true,
   "toc_position": {},
   "toc_section_display": "block",
   "toc_window_display": false
  }
 },
 "nbformat": 4,
 "nbformat_minor": 2
}
