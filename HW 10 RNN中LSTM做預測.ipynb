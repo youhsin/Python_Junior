{
 "cells": [
  {
   "cell_type": "code",
   "execution_count": 2,
   "metadata": {},
   "outputs": [
    {
     "name": "stdout",
     "output_type": "stream",
     "text": [
      "env: KERAS_BACKEND=tensorflow\n"
     ]
    }
   ],
   "source": [
    "%env KERAS_BACKEND=tensorflow"
   ]
  },
  {
   "cell_type": "code",
   "execution_count": 3,
   "metadata": {},
   "outputs": [
    {
     "name": "stderr",
     "output_type": "stream",
     "text": [
      "/Users/wuyouxin/anaconda3/lib/python3.6/site-packages/h5py/__init__.py:36: FutureWarning: Conversion of the second argument of issubdtype from `float` to `np.floating` is deprecated. In future, it will be treated as `np.float64 == np.dtype(float).type`.\n",
      "  from ._conv import register_converters as _register_converters\n",
      "Using TensorFlow backend.\n"
     ]
    }
   ],
   "source": [
    "%matplotlib inline\n",
    "import numpy as np\n",
    "import matplotlib.pyplot as mlt\n",
    "from keras.datasets import imdb\n",
    "from keras.preprocessing import sequence\n",
    "from keras.models import Sequential\n",
    "from keras.layers import Dense , Embedding\n",
    "from keras.layers import LSTM"
   ]
  },
  {
   "cell_type": "code",
   "execution_count": 4,
   "metadata": {},
   "outputs": [],
   "source": [
    "(x_train, y_train), (x_test, y_test) = imdb.load_data(num_words = 10000)"
   ]
  },
  {
   "cell_type": "code",
   "execution_count": 5,
   "metadata": {},
   "outputs": [],
   "source": [
    "x_train = sequence.pad_sequences(x_train, maxlen = 150)\n",
    "x_test = sequence.pad_sequences(x_test, maxlen = 150)"
   ]
  },
  {
   "cell_type": "code",
   "execution_count": 6,
   "metadata": {},
   "outputs": [],
   "source": [
    "N = 5\n",
    "K = 2"
   ]
  },
  {
   "cell_type": "code",
   "execution_count": 102,
   "metadata": {},
   "outputs": [],
   "source": [
    "model = Sequential()\n",
    "\n",
    "model.add(Embedding(20000,N))\n",
    "model.add(LSTM(K))\n",
    "\n",
    "model.add(Dense(1, activation=\"sigmoid\"))"
   ]
  },
  {
   "cell_type": "code",
   "execution_count": 103,
   "metadata": {},
   "outputs": [
    {
     "name": "stdout",
     "output_type": "stream",
     "text": [
      "_________________________________________________________________\n",
      "Layer (type)                 Output Shape              Param #   \n",
      "=================================================================\n",
      "embedding_18 (Embedding)     (None, None, 5)           100000    \n",
      "_________________________________________________________________\n",
      "lstm_18 (LSTM)               (None, 2)                 64        \n",
      "_________________________________________________________________\n",
      "dense_21 (Dense)             (None, 1)                 3         \n",
      "=================================================================\n",
      "Total params: 100,067\n",
      "Trainable params: 100,067\n",
      "Non-trainable params: 0\n",
      "_________________________________________________________________\n"
     ]
    }
   ],
   "source": [
    "model.summary()"
   ]
  },
  {
   "cell_type": "code",
   "execution_count": 104,
   "metadata": {},
   "outputs": [],
   "source": [
    "model.compile(loss= \"binary_crossentropy\", \n",
    "             optimizer= \"adam\",\n",
    "             metrics= [\"accuracy\"])"
   ]
  },
  {
   "cell_type": "code",
   "execution_count": 105,
   "metadata": {},
   "outputs": [
    {
     "name": "stdout",
     "output_type": "stream",
     "text": [
      "Train on 25000 samples, validate on 25000 samples\n",
      "Epoch 1/10\n",
      "25000/25000 [==============================] - 97s 4ms/step - loss: 0.6101 - acc: 0.6971 - val_loss: 0.5021 - val_acc: 0.7931\n",
      "Epoch 2/10\n",
      "25000/25000 [==============================] - 92s 4ms/step - loss: 0.4351 - acc: 0.8484 - val_loss: 0.4462 - val_acc: 0.8178\n",
      "Epoch 3/10\n",
      "25000/25000 [==============================] - 96s 4ms/step - loss: 0.3544 - acc: 0.8825 - val_loss: 0.3879 - val_acc: 0.8469\n",
      "Epoch 4/10\n",
      "25000/25000 [==============================] - 93s 4ms/step - loss: 0.3006 - acc: 0.9028 - val_loss: 0.3597 - val_acc: 0.8560\n",
      "Epoch 5/10\n",
      "25000/25000 [==============================] - 94s 4ms/step - loss: 0.2621 - acc: 0.9154 - val_loss: 0.3593 - val_acc: 0.8535\n",
      "Epoch 6/10\n",
      "25000/25000 [==============================] - 95s 4ms/step - loss: 0.2234 - acc: 0.9310 - val_loss: 0.3591 - val_acc: 0.8550\n",
      "Epoch 7/10\n",
      "25000/25000 [==============================] - 94s 4ms/step - loss: 0.1959 - acc: 0.9408 - val_loss: 0.3665 - val_acc: 0.8514\n",
      "Epoch 8/10\n",
      "25000/25000 [==============================] - 98s 4ms/step - loss: 0.1739 - acc: 0.9500 - val_loss: 0.3675 - val_acc: 0.8548\n",
      "Epoch 9/10\n",
      "25000/25000 [==============================] - 95s 4ms/step - loss: 0.1552 - acc: 0.9570 - val_loss: 0.3716 - val_acc: 0.8554\n",
      "Epoch 10/10\n",
      "25000/25000 [==============================] - 94s 4ms/step - loss: 0.1414 - acc: 0.9629 - val_loss: 0.3996 - val_acc: 0.8536\n"
     ]
    },
    {
     "data": {
      "text/plain": [
       "<keras.callbacks.History at 0xb6973bc18>"
      ]
     },
     "execution_count": 105,
     "metadata": {},
     "output_type": "execute_result"
    }
   ],
   "source": [
    "model.fit(x_train, y_train, batch_size = 100, epochs = 10, validation_data = (x_test, y_test))"
   ]
  },
  {
   "cell_type": "code",
   "execution_count": 106,
   "metadata": {},
   "outputs": [
    {
     "name": "stdout",
     "output_type": "stream",
     "text": [
      "25000/25000 [==============================] - 28s 1ms/step\n"
     ]
    }
   ],
   "source": [
    "score = model.evaluate(x_test, y_test)"
   ]
  },
  {
   "cell_type": "code",
   "execution_count": 107,
   "metadata": {},
   "outputs": [
    {
     "name": "stdout",
     "output_type": "stream",
     "text": [
      "loss 0.39956261917591096\n",
      "accuracu 0.8536\n"
     ]
    }
   ],
   "source": [
    "print(\"loss\", score[0])\n",
    "print(\"accuracu\", score[1])"
   ]
  },
  {
   "cell_type": "code",
   "execution_count": 7,
   "metadata": {},
   "outputs": [
    {
     "data": {
      "text/plain": [
       "array([[  12,   16,   43, ...,   19,  178,   32],\n",
       "       [   4,  249,  126, ...,   16,  145,   95],\n",
       "       [   0,    0,    0, ...,    7,  129,  113],\n",
       "       ...,\n",
       "       [ 140,    8,  703, ...,    4, 3586,    2],\n",
       "       [   1, 1446, 7079, ...,   12,    9,   23],\n",
       "       [ 194,  337,    7, ...,  204,  131,    9]], dtype=int32)"
      ]
     },
     "execution_count": 7,
     "metadata": {},
     "output_type": "execute_result"
    }
   ],
   "source": [
    "x_train"
   ]
  },
  {
   "cell_type": "code",
   "execution_count": null,
   "metadata": {},
   "outputs": [],
   "source": []
  }
 ],
 "metadata": {
  "kernelspec": {
   "display_name": "Python 3",
   "language": "python",
   "name": "python3"
  },
  "language_info": {
   "codemirror_mode": {
    "name": "ipython",
    "version": 3
   },
   "file_extension": ".py",
   "mimetype": "text/x-python",
   "name": "python",
   "nbconvert_exporter": "python",
   "pygments_lexer": "ipython3",
   "version": "3.6.5"
  }
 },
 "nbformat": 4,
 "nbformat_minor": 2
}
