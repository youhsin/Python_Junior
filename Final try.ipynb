{
 "cells": [
  {
   "cell_type": "code",
   "execution_count": 7,
   "metadata": {},
   "outputs": [],
   "source": [
    "%matplotlib inline\n",
    "import numpy as np\n",
    "import matplotlib.pyplot as plt\n",
    "import pandas as pd"
   ]
  },
  {
   "cell_type": "code",
   "execution_count": 25,
   "metadata": {},
   "outputs": [],
   "source": [
    "%matplotlib inline\n",
    "import numpy as np\n",
    "import matplotlib.pyplot as plt\n",
    "\n",
    "from keras.preprocessing.image import array_to_img, img_to_array, load_img\n",
    "from sklearn.datasets import load_files\n",
    "from sklearn import datasets\n",
    "from keras.applications.vgg16 import VGG16\n",
    "\n",
    "\n",
    "import os, sys\n",
    "import cv2\n",
    "\n",
    "\n",
    "\n",
    "from PIL import Image \n",
    "from tqdm import tqdm_notebook \n",
    "from random import shuffle \n",
    "import shutil \n",
    "import pandas as pd \n",
    "\n",
    "from keras.utils import np_utils\n",
    "from keras.models import Sequential\n",
    "from keras.layers.core import Flatten, Dense, Dropout, Activation\n",
    "from keras.layers.convolutional import Convolution2D, MaxPooling2D, ZeroPadding2D\n",
    "from keras.optimizers import SGD\n",
    "\n",
    "import os\n",
    "from PIL import Image"
   ]
  },
  {
   "cell_type": "code",
   "execution_count": 53,
   "metadata": {},
   "outputs": [],
   "source": [
    "model = VGG16(weights='imagenet', include_top=True)\n"
   ]
  },
  {
   "cell_type": "code",
   "execution_count": 57,
   "metadata": {},
   "outputs": [],
   "source": [
    "model= Sequential()\n",
    "\n",
    "model.add(Conv2D(3,(5,5), padding=\"same\", input_shape=(28,28,1)))\n",
    "model.add(Activation(\"relu\"))\n",
    "model.add(MaxPool2D(pool_size=(2,2)))\n",
    "\n",
    "model.add(Conv2D(6,(5,5), padding=\"same\", input_shape=(28,28,1)))\n",
    "model.add(Activation(\"relu\"))\n",
    "model.add(MaxPool2D(pool_size=(2,2)))\n",
    "\n",
    "model.add(Conv2D(9,(5,5), padding=\"same\", input_shape=(28,28,1)))\n",
    "model.add(Activation(\"relu\"))\n",
    "model.add(MaxPool2D(pool_size=(2,2)))\n",
    "\n",
    "model.add(Conv2D(12,(5,5), padding=\"same\", input_shape=(28,28,1)))\n",
    "model.add(Activation(\"relu\"))\n",
    "model.add(MaxPool2D(pool_size=(2,2)))\n",
    "\n",
    "model.add(Flatten())\n",
    "model.add(Dense(10))\n",
    "model.add(Activation(\"softmax\"))\n",
    "\n"
   ]
  },
  {
   "cell_type": "code",
   "execution_count": 58,
   "metadata": {},
   "outputs": [
    {
     "name": "stdout",
     "output_type": "stream",
     "text": [
      "_________________________________________________________________\n",
      "Layer (type)                 Output Shape              Param #   \n",
      "=================================================================\n",
      "conv2d_5 (Conv2D)            (None, 28, 28, 3)         78        \n",
      "_________________________________________________________________\n",
      "activation_6 (Activation)    (None, 28, 28, 3)         0         \n",
      "_________________________________________________________________\n",
      "max_pooling2d_5 (MaxPooling2 (None, 14, 14, 3)         0         \n",
      "_________________________________________________________________\n",
      "conv2d_6 (Conv2D)            (None, 14, 14, 6)         456       \n",
      "_________________________________________________________________\n",
      "activation_7 (Activation)    (None, 14, 14, 6)         0         \n",
      "_________________________________________________________________\n",
      "max_pooling2d_6 (MaxPooling2 (None, 7, 7, 6)           0         \n",
      "_________________________________________________________________\n",
      "conv2d_7 (Conv2D)            (None, 7, 7, 9)           1359      \n",
      "_________________________________________________________________\n",
      "activation_8 (Activation)    (None, 7, 7, 9)           0         \n",
      "_________________________________________________________________\n",
      "max_pooling2d_7 (MaxPooling2 (None, 3, 3, 9)           0         \n",
      "_________________________________________________________________\n",
      "conv2d_8 (Conv2D)            (None, 3, 3, 12)          2712      \n",
      "_________________________________________________________________\n",
      "activation_9 (Activation)    (None, 3, 3, 12)          0         \n",
      "_________________________________________________________________\n",
      "max_pooling2d_8 (MaxPooling2 (None, 1, 1, 12)          0         \n",
      "_________________________________________________________________\n",
      "flatten_2 (Flatten)          (None, 12)                0         \n",
      "_________________________________________________________________\n",
      "dense_2 (Dense)              (None, 10)                130       \n",
      "_________________________________________________________________\n",
      "activation_10 (Activation)   (None, 10)                0         \n",
      "=================================================================\n",
      "Total params: 4,735\n",
      "Trainable params: 4,735\n",
      "Non-trainable params: 0\n",
      "_________________________________________________________________\n"
     ]
    }
   ],
   "source": [
    "model.summary()"
   ]
  },
  {
   "cell_type": "code",
   "execution_count": 59,
   "metadata": {},
   "outputs": [],
   "source": [
    "model.compile(loss=\"mse\",optimizer=SGD(lr=0.05),metrics=[\"accuracy\"])"
   ]
  },
  {
   "cell_type": "code",
   "execution_count": 8,
   "metadata": {},
   "outputs": [],
   "source": [
    "def load_dataset(path):\n",
    "    data = load_files(path)\n",
    "    files = np.array(data['filenames'])\n",
    "    targets = np.array(data['target'])\n",
    "    target_labels = np.array(data['target_names'])\n",
    "    return files,targets,target_labels"
   ]
  },
  {
   "cell_type": "code",
   "execution_count": 9,
   "metadata": {},
   "outputs": [],
   "source": [
    "train_dir = \"/Users/wuyouxin/Documents/Python/Python_Junior/data/5_celeface/train\"\n",
    "test_dir = \"/Users/wuyouxin/Documents/Python/Python_Junior/data/5_celeface/val\""
   ]
  },
  {
   "cell_type": "code",
   "execution_count": 65,
   "metadata": {},
   "outputs": [],
   "source": [
    "x_train, y_train, train_label = load_dataset(train_dir)\n",
    "x_test, y_test, test_label = load_dataset(test_dir)"
   ]
  },
  {
   "cell_type": "code",
   "execution_count": 12,
   "metadata": {},
   "outputs": [
    {
     "data": {
      "text/plain": [
       "(170, 115, 3)"
      ]
     },
     "execution_count": 12,
     "metadata": {},
     "output_type": "execute_result"
    }
   ],
   "source": [
    "x_train0 = Image.open(\"/Users/wuyouxin/Documents/Python/Python_Junior/data/5_celeface/train/ben_afflek/httpcsvkmeuaeccjpg.jpg\")\n",
    "x_train0array = np.array(x_train0)\n",
    "x_train0array.shape"
   ]
  },
  {
   "cell_type": "code",
   "execution_count": 64,
   "metadata": {},
   "outputs": [],
   "source": [
    "def convert_image_to_array(files):\n",
    "    images_as_array=[]\n",
    "    for file in files:\n",
    "        images_as_array.append(np.array(Image.open(file)).tolist)\n",
    "    return images_as_array"
   ]
  },
  {
   "cell_type": "code",
   "execution_count": 63,
   "metadata": {},
   "outputs": [
    {
     "data": {
      "image/png": "[encoded data removed]",
      "text/plain": [
       "<PIL.JpegImagePlugin.JpegImageFile image mode=RGB size=115x170 at 0x1A4BC469B0>"
      ]
     },
     "execution_count": 63,
     "metadata": {},
     "output_type": "execute_result"
    }
   ],
   "source": [
    "path = \"/Users/wuyouxin/Documents/Python/Python_Junior/data/5_celeface/train/ben_afflek/httpcsvkmeuaeccjpg.jpg\"\n",
    "path2 = \"/Users/wuyouxin/Documents/Python/Python_Junior/data/5_celeface/train/ben_afflek/httpimagesfandangocomrImageRendererredesignstaticimgnoxportraitjpgpcpcpcimagesmasterrepositoryperformerimagespjpg.jpg\"\n",
    "x_try = Image.open(path)\n",
    "Image.open(path2)\n",
    "\n",
    "x_try_array = np.array(Image.open(path))\n",
    "\n"
   ]
  },
  {
   "cell_type": "code",
   "execution_count": 68,
   "metadata": {
    "collapsed": true
   },
   "outputs": [
    {
     "ename": "AttributeError",
     "evalue": "'builtin_function_or_method' object has no attribute 'read'",
     "output_type": "error",
     "traceback": [
      "\u001b[0;31m---------------------------------------------------------------------------\u001b[0m",
      "\u001b[0;31mAttributeError\u001b[0m                            Traceback (most recent call last)",
      "\u001b[0;32m~/anaconda3/lib/python3.6/site-packages/PIL/Image.py\u001b[0m in \u001b[0;36mopen\u001b[0;34m(fp, mode)\u001b[0m\n\u001b[1;32m   2551\u001b[0m     \u001b[0;32mtry\u001b[0m\u001b[0;34m:\u001b[0m\u001b[0;34m\u001b[0m\u001b[0m\n\u001b[0;32m-> 2552\u001b[0;31m         \u001b[0mfp\u001b[0m\u001b[0;34m.\u001b[0m\u001b[0mseek\u001b[0m\u001b[0;34m(\u001b[0m\u001b[0;36m0\u001b[0m\u001b[0;34m)\u001b[0m\u001b[0;34m\u001b[0m\u001b[0m\n\u001b[0m\u001b[1;32m   2553\u001b[0m     \u001b[0;32mexcept\u001b[0m \u001b[0;34m(\u001b[0m\u001b[0mAttributeError\u001b[0m\u001b[0;34m,\u001b[0m \u001b[0mio\u001b[0m\u001b[0;34m.\u001b[0m\u001b[0mUnsupportedOperation\u001b[0m\u001b[0;34m)\u001b[0m\u001b[0;34m:\u001b[0m\u001b[0;34m\u001b[0m\u001b[0m\n",
      "\u001b[0;31mAttributeError\u001b[0m: 'builtin_function_or_method' object has no attribute 'seek'",
      "\nDuring handling of the above exception, another exception occurred:\n",
      "\u001b[0;31mAttributeError\u001b[0m                            Traceback (most recent call last)",
      "\u001b[0;32m<ipython-input-68-a05849863cb0>\u001b[0m in \u001b[0;36m<module>\u001b[0;34m()\u001b[0m\n\u001b[0;32m----> 1\u001b[0;31m \u001b[0mx_train\u001b[0m \u001b[0;34m=\u001b[0m \u001b[0mnp\u001b[0m\u001b[0;34m.\u001b[0m\u001b[0marray\u001b[0m\u001b[0;34m(\u001b[0m\u001b[0mconvert_image_to_array\u001b[0m\u001b[0;34m(\u001b[0m\u001b[0mx_train\u001b[0m\u001b[0;34m)\u001b[0m\u001b[0;34m)\u001b[0m\u001b[0;34m\u001b[0m\u001b[0m\n\u001b[0m",
      "\u001b[0;32m<ipython-input-64-180e738a9d31>\u001b[0m in \u001b[0;36mconvert_image_to_array\u001b[0;34m(files)\u001b[0m\n\u001b[1;32m      2\u001b[0m     \u001b[0mimages_as_array\u001b[0m\u001b[0;34m=\u001b[0m\u001b[0;34m[\u001b[0m\u001b[0;34m]\u001b[0m\u001b[0;34m\u001b[0m\u001b[0m\n\u001b[1;32m      3\u001b[0m     \u001b[0;32mfor\u001b[0m \u001b[0mfile\u001b[0m \u001b[0;32min\u001b[0m \u001b[0mfiles\u001b[0m\u001b[0;34m:\u001b[0m\u001b[0;34m\u001b[0m\u001b[0m\n\u001b[0;32m----> 4\u001b[0;31m         \u001b[0mimages_as_array\u001b[0m\u001b[0;34m.\u001b[0m\u001b[0mappend\u001b[0m\u001b[0;34m(\u001b[0m\u001b[0mnp\u001b[0m\u001b[0;34m.\u001b[0m\u001b[0marray\u001b[0m\u001b[0;34m(\u001b[0m\u001b[0mImage\u001b[0m\u001b[0;34m.\u001b[0m\u001b[0mopen\u001b[0m\u001b[0;34m(\u001b[0m\u001b[0mfile\u001b[0m\u001b[0;34m)\u001b[0m\u001b[0;34m)\u001b[0m\u001b[0;34m.\u001b[0m\u001b[0mtolist\u001b[0m\u001b[0;34m)\u001b[0m\u001b[0;34m\u001b[0m\u001b[0m\n\u001b[0m\u001b[1;32m      5\u001b[0m     \u001b[0;32mreturn\u001b[0m \u001b[0mimages_as_array\u001b[0m\u001b[0;34m\u001b[0m\u001b[0m\n",
      "\u001b[0;32m~/anaconda3/lib/python3.6/site-packages/PIL/Image.py\u001b[0m in \u001b[0;36mopen\u001b[0;34m(fp, mode)\u001b[0m\n\u001b[1;32m   2552\u001b[0m         \u001b[0mfp\u001b[0m\u001b[0;34m.\u001b[0m\u001b[0mseek\u001b[0m\u001b[0;34m(\u001b[0m\u001b[0;36m0\u001b[0m\u001b[0;34m)\u001b[0m\u001b[0;34m\u001b[0m\u001b[0m\n\u001b[1;32m   2553\u001b[0m     \u001b[0;32mexcept\u001b[0m \u001b[0;34m(\u001b[0m\u001b[0mAttributeError\u001b[0m\u001b[0;34m,\u001b[0m \u001b[0mio\u001b[0m\u001b[0;34m.\u001b[0m\u001b[0mUnsupportedOperation\u001b[0m\u001b[0;34m)\u001b[0m\u001b[0;34m:\u001b[0m\u001b[0;34m\u001b[0m\u001b[0m\n\u001b[0;32m-> 2554\u001b[0;31m         \u001b[0mfp\u001b[0m \u001b[0;34m=\u001b[0m \u001b[0mio\u001b[0m\u001b[0;34m.\u001b[0m\u001b[0mBytesIO\u001b[0m\u001b[0;34m(\u001b[0m\u001b[0mfp\u001b[0m\u001b[0;34m.\u001b[0m\u001b[0mread\u001b[0m\u001b[0;34m(\u001b[0m\u001b[0;34m)\u001b[0m\u001b[0;34m)\u001b[0m\u001b[0;34m\u001b[0m\u001b[0m\n\u001b[0m\u001b[1;32m   2555\u001b[0m         \u001b[0mexclusive_fp\u001b[0m \u001b[0;34m=\u001b[0m \u001b[0;32mTrue\u001b[0m\u001b[0;34m\u001b[0m\u001b[0m\n\u001b[1;32m   2556\u001b[0m \u001b[0;34m\u001b[0m\u001b[0m\n",
      "\u001b[0;31mAttributeError\u001b[0m: 'builtin_function_or_method' object has no attribute 'read'"
     ]
    }
   ],
   "source": [
    "x_train = np.array(convert_image_to_array(x_train))\n"
   ]
  },
  {
   "cell_type": "code",
   "execution_count": 70,
   "metadata": {},
   "outputs": [
    {
     "data": {
      "text/plain": [
       "array([<built-in method tolist of numpy.ndarray object at 0x1a36a4bbc0>,\n",
       "       <built-in method tolist of numpy.ndarray object at 0x1a36a4bad0>,\n",
       "       <built-in method tolist of numpy.ndarray object at 0x1a36a4bd00>,\n",
       "       <built-in method tolist of numpy.ndarray object at 0x1a36a4bd50>,\n",
       "       <built-in method tolist of numpy.ndarray object at 0x1a36a4bda0>,\n",
       "       <built-in method tolist of numpy.ndarray object at 0x1a36a4bdf0>,\n",
       "       <built-in method tolist of numpy.ndarray object at 0x1a36a4be40>,\n",
       "       <built-in method tolist of numpy.ndarray object at 0x1a36a4be90>,\n",
       "       <built-in method tolist of numpy.ndarray object at 0x1a36a4bee0>,\n",
       "       <built-in method tolist of numpy.ndarray object at 0x1a36a4bf30>,\n",
       "       <built-in method tolist of numpy.ndarray object at 0x1a36a4bf80>,\n",
       "       <built-in method tolist of numpy.ndarray object at 0x1a368fd030>,\n",
       "       <built-in method tolist of numpy.ndarray object at 0x1a368fd080>,\n",
       "       <built-in method tolist of numpy.ndarray object at 0x1a368fd0d0>,\n",
       "       <built-in method tolist of numpy.ndarray object at 0x1a368fd120>,\n",
       "       <built-in method tolist of numpy.ndarray object at 0x1a368fd170>,\n",
       "       <built-in method tolist of numpy.ndarray object at 0x1a368fd1c0>,\n",
       "       <built-in method tolist of numpy.ndarray object at 0x1a368fd210>,\n",
       "       <built-in method tolist of numpy.ndarray object at 0x1a368fd260>,\n",
       "       <built-in method tolist of numpy.ndarray object at 0x1a368fd2b0>,\n",
       "       <built-in method tolist of numpy.ndarray object at 0x1a368fd300>,\n",
       "       <built-in method tolist of numpy.ndarray object at 0x1a368fd350>,\n",
       "       <built-in method tolist of numpy.ndarray object at 0x1a368fd3a0>,\n",
       "       <built-in method tolist of numpy.ndarray object at 0x1a368fd3f0>,\n",
       "       <built-in method tolist of numpy.ndarray object at 0x1a368fd440>,\n",
       "       <built-in method tolist of numpy.ndarray object at 0x1a368fd490>,\n",
       "       <built-in method tolist of numpy.ndarray object at 0x1a368fd5d0>,\n",
       "       <built-in method tolist of numpy.ndarray object at 0x1a368fd530>,\n",
       "       <built-in method tolist of numpy.ndarray object at 0x1a368fd620>,\n",
       "       <built-in method tolist of numpy.ndarray object at 0x1a368fd580>,\n",
       "       <built-in method tolist of numpy.ndarray object at 0x1a368fd4e0>,\n",
       "       <built-in method tolist of numpy.ndarray object at 0x1a368fd670>,\n",
       "       <built-in method tolist of numpy.ndarray object at 0x1a368fd6c0>,\n",
       "       <built-in method tolist of numpy.ndarray object at 0x1a368fd710>,\n",
       "       <built-in method tolist of numpy.ndarray object at 0x1a368fd760>,\n",
       "       <built-in method tolist of numpy.ndarray object at 0x1a368fd7b0>,\n",
       "       <built-in method tolist of numpy.ndarray object at 0x1a368fd800>,\n",
       "       <built-in method tolist of numpy.ndarray object at 0x1a368fd850>,\n",
       "       <built-in method tolist of numpy.ndarray object at 0x1a368fd8a0>,\n",
       "       <built-in method tolist of numpy.ndarray object at 0x1a368fd8f0>,\n",
       "       <built-in method tolist of numpy.ndarray object at 0x1a368fd940>,\n",
       "       <built-in method tolist of numpy.ndarray object at 0x1a368fd990>,\n",
       "       <built-in method tolist of numpy.ndarray object at 0x1a368fd9e0>,\n",
       "       <built-in method tolist of numpy.ndarray object at 0x1a368fda30>,\n",
       "       <built-in method tolist of numpy.ndarray object at 0x1a368fda80>,\n",
       "       <built-in method tolist of numpy.ndarray object at 0x1a368fdad0>,\n",
       "       <built-in method tolist of numpy.ndarray object at 0x1a368fdb20>,\n",
       "       <built-in method tolist of numpy.ndarray object at 0x1a368fdb70>,\n",
       "       <built-in method tolist of numpy.ndarray object at 0x1a368fdbc0>,\n",
       "       <built-in method tolist of numpy.ndarray object at 0x1a368fdc10>,\n",
       "       <built-in method tolist of numpy.ndarray object at 0x1a368fdc60>,\n",
       "       <built-in method tolist of numpy.ndarray object at 0x1a368fdcb0>,\n",
       "       <built-in method tolist of numpy.ndarray object at 0x1a368fdd00>,\n",
       "       <built-in method tolist of numpy.ndarray object at 0x1a368fdd50>,\n",
       "       <built-in method tolist of numpy.ndarray object at 0x1a368fdda0>,\n",
       "       <built-in method tolist of numpy.ndarray object at 0x1a368fde40>,\n",
       "       <built-in method tolist of numpy.ndarray object at 0x1a368fddf0>,\n",
       "       <built-in method tolist of numpy.ndarray object at 0x1a368fde90>,\n",
       "       <built-in method tolist of numpy.ndarray object at 0x1a368fdee0>,\n",
       "       <built-in method tolist of numpy.ndarray object at 0x1a368fdf30>,\n",
       "       <built-in method tolist of numpy.ndarray object at 0x1a368fdf80>,\n",
       "       <built-in method tolist of numpy.ndarray object at 0x1a36a55030>,\n",
       "       <built-in method tolist of numpy.ndarray object at 0x1a36a550d0>,\n",
       "       <built-in method tolist of numpy.ndarray object at 0x1a36a55080>,\n",
       "       <built-in method tolist of numpy.ndarray object at 0x1a36a55120>,\n",
       "       <built-in method tolist of numpy.ndarray object at 0x1a36a55170>,\n",
       "       <built-in method tolist of numpy.ndarray object at 0x1a36a551c0>,\n",
       "       <built-in method tolist of numpy.ndarray object at 0x1a36a55210>,\n",
       "       <built-in method tolist of numpy.ndarray object at 0x1a36a55350>,\n",
       "       <built-in method tolist of numpy.ndarray object at 0x1a36a553a0>,\n",
       "       <built-in method tolist of numpy.ndarray object at 0x1a36a552b0>,\n",
       "       <built-in method tolist of numpy.ndarray object at 0x1a36a55260>,\n",
       "       <built-in method tolist of numpy.ndarray object at 0x1a36a55300>,\n",
       "       <built-in method tolist of numpy.ndarray object at 0x1a36a553f0>,\n",
       "       <built-in method tolist of numpy.ndarray object at 0x1a36a55440>,\n",
       "       <built-in method tolist of numpy.ndarray object at 0x1a36a55490>,\n",
       "       <built-in method tolist of numpy.ndarray object at 0x1a36a554e0>,\n",
       "       <built-in method tolist of numpy.ndarray object at 0x1a36a55530>,\n",
       "       <built-in method tolist of numpy.ndarray object at 0x1a36a55580>,\n",
       "       <built-in method tolist of numpy.ndarray object at 0x1a36a555d0>,\n",
       "       <built-in method tolist of numpy.ndarray object at 0x1a36a55620>,\n",
       "       <built-in method tolist of numpy.ndarray object at 0x1a36a55670>,\n",
       "       <built-in method tolist of numpy.ndarray object at 0x1a36a556c0>,\n",
       "       <built-in method tolist of numpy.ndarray object at 0x1a36a55710>,\n",
       "       <built-in method tolist of numpy.ndarray object at 0x1a36a55760>,\n",
       "       <built-in method tolist of numpy.ndarray object at 0x1a36a557b0>,\n",
       "       <built-in method tolist of numpy.ndarray object at 0x1a36a55800>,\n",
       "       <built-in method tolist of numpy.ndarray object at 0x1a36a55850>,\n",
       "       <built-in method tolist of numpy.ndarray object at 0x1a36a558a0>,\n",
       "       <built-in method tolist of numpy.ndarray object at 0x1a36a558f0>,\n",
       "       <built-in method tolist of numpy.ndarray object at 0x1a36a55940>,\n",
       "       <built-in method tolist of numpy.ndarray object at 0x1a36a55990>,\n",
       "       <built-in method tolist of numpy.ndarray object at 0x1a36a559e0>],\n",
       "      dtype=object)"
      ]
     },
     "execution_count": 70,
     "metadata": {},
     "output_type": "execute_result"
    }
   ],
   "source": [
    "x_train"
   ]
  },
  {
   "cell_type": "code",
   "execution_count": 39,
   "metadata": {},
   "outputs": [
    {
     "data": {
      "text/plain": [
       "(3,)"
      ]
     },
     "execution_count": 39,
     "metadata": {},
     "output_type": "execute_result"
    }
   ],
   "source": [
    "np.array([[1, [2]], [2, [3]], [3, ]]).shape"
   ]
  },
  {
   "cell_type": "code",
   "execution_count": 56,
   "metadata": {},
   "outputs": [
    {
     "name": "stdout",
     "output_type": "stream",
     "text": [
      "(314, 236, 3)\n",
      "(209, 292, 3)\n",
      "(209, 165, 3)\n",
      "(240, 320, 3)\n",
      "(224, 300, 4)\n",
      "(300, 300, 3)\n",
      "(333, 236, 3)\n",
      "(200, 200, 3)\n",
      "(300, 300, 3)\n",
      "(358, 250, 3)\n",
      "(236, 355, 3)\n",
      "(335, 220, 3)\n",
      "(358, 241, 3)\n",
      "(297, 220, 3)\n",
      "(340, 220, 3)\n",
      "(330, 236, 3)\n",
      "(213, 160, 3)\n",
      "(355, 236, 3)\n",
      "(297, 292, 3)\n",
      "(240, 360, 3)\n",
      "(165, 220, 3)\n",
      "(225, 305, 3)\n",
      "(353, 236, 3)\n",
      "(244, 236, 3)\n",
      "(216, 216, 3)\n",
      "(295, 295, 3)\n",
      "(190, 190, 3)\n",
      "(305, 236, 3)\n",
      "(233, 350, 3)\n",
      "(354, 236, 3)\n",
      "(315, 236, 3)\n",
      "(297, 236, 3)\n",
      "(345, 236, 3)\n",
      "(320, 240, 3)\n",
      "(212, 238, 3)\n",
      "(353, 236, 3)\n",
      "(300, 300, 3)\n",
      "(250, 250, 3)\n",
      "(346, 220, 3)\n",
      "(354, 236, 3)\n",
      "(380, 236, 3)\n",
      "(354, 236, 3)\n",
      "(317, 214, 3)\n",
      "(203, 360, 3)\n",
      "(272, 245, 3)\n",
      "(280, 230, 3)\n",
      "(314, 236, 3)\n",
      "(346, 236, 3)\n",
      "(368, 245, 3)\n",
      "(170, 115, 3)\n",
      "(206, 160, 3)\n",
      "(300, 300, 3)\n",
      "(250, 250, 3)\n",
      "(185, 150, 3)\n",
      "(317, 214, 3)\n",
      "(300, 236, 3)\n",
      "(317, 214, 3)\n",
      "(350, 243, 3)\n",
      "(244, 161, 3)\n",
      "(320, 236, 3)\n",
      "(282, 236, 3)\n",
      "(350, 243, 3)\n",
      "(250, 164, 3)\n",
      "(280, 300, 3)\n",
      "(335, 236, 3)\n",
      "(202, 300, 3)\n",
      "(257, 294, 3)\n",
      "(320, 240, 3)\n",
      "(200, 255, 3)\n",
      "(285, 220, 3)\n",
      "(304, 230, 3)\n",
      "(240, 360, 3)\n",
      "(197, 350, 3)\n",
      "(267, 267, 3)\n",
      "(237, 316, 3)\n",
      "(254, 190, 3)\n",
      "(225, 305, 3)\n",
      "(320, 240, 3)\n",
      "(300, 300, 3)\n",
      "(225, 305, 3)\n",
      "(315, 214, 3)\n",
      "(380, 236, 3)\n",
      "(330, 230, 3)\n",
      "(200, 200, 3)\n",
      "(240, 320, 3)\n",
      "(240, 300, 3)\n",
      "(325, 236, 3)\n",
      "(140, 140, 3)\n",
      "(300, 300, 3)\n",
      "(355, 220, 3)\n",
      "(223, 190, 3)\n",
      "(260, 214, 3)\n",
      "(200, 300, 3)\n"
     ]
    }
   ],
   "source": [
    "for i in x_train:\n",
    "    print(i.shape)"
   ]
  },
  {
   "cell_type": "code",
   "execution_count": 49,
   "metadata": {},
   "outputs": [
    {
     "data": {
      "text/plain": [
       "(314, 236, 3)"
      ]
     },
     "execution_count": 49,
     "metadata": {},
     "output_type": "execute_result"
    }
   ],
   "source": [
    "x_train[0].shape"
   ]
  },
  {
   "cell_type": "code",
   "execution_count": 61,
   "metadata": {
    "collapsed": true
   },
   "outputs": [
    {
     "ename": "ValueError",
     "evalue": "cannot reshape array of size 93 into shape (93,314,236,1)",
     "output_type": "error",
     "traceback": [
      "\u001b[0;31m---------------------------------------------------------------------------\u001b[0m",
      "\u001b[0;31mValueError\u001b[0m                                Traceback (most recent call last)",
      "\u001b[0;32m<ipython-input-61-03f7775181ff>\u001b[0m in \u001b[0;36m<module>\u001b[0;34m()\u001b[0m\n\u001b[0;32m----> 1\u001b[0;31m \u001b[0mx_train1\u001b[0m \u001b[0;34m=\u001b[0m \u001b[0mx_train\u001b[0m\u001b[0;34m.\u001b[0m\u001b[0mreshape\u001b[0m\u001b[0;34m(\u001b[0m\u001b[0;36m93\u001b[0m\u001b[0;34m,\u001b[0m \u001b[0;36m314\u001b[0m\u001b[0;34m,\u001b[0m \u001b[0;36m236\u001b[0m\u001b[0;34m,\u001b[0m \u001b[0;36m1\u001b[0m\u001b[0;34m)\u001b[0m\u001b[0;34m\u001b[0m\u001b[0m\n\u001b[0m",
      "\u001b[0;31mValueError\u001b[0m: cannot reshape array of size 93 into shape (93,314,236,1)"
     ]
    }
   ],
   "source": [
    "x_train1 = x_train.reshape(93, 314, 236, 1)"
   ]
  },
  {
   "cell_type": "code",
   "execution_count": 61,
   "metadata": {},
   "outputs": [
    {
     "ename": "ValueError",
     "evalue": "Error when checking input: expected conv2d_5_input to have 4 dimensions, but got array with shape (170, 115, 3)",
     "output_type": "error",
     "traceback": [
      "\u001b[0;31m---------------------------------------------------------------------------\u001b[0m",
      "\u001b[0;31mValueError\u001b[0m                                Traceback (most recent call last)",
      "\u001b[0;32m<ipython-input-61-399a9a3f869d>\u001b[0m in \u001b[0;36m<module>\u001b[0;34m()\u001b[0m\n\u001b[1;32m      1\u001b[0m model.fit(x_try_array, \"epho\", batch_size = 100, \n\u001b[1;32m      2\u001b[0m           \u001b[0mepochs\u001b[0m \u001b[0;34m=\u001b[0m \u001b[0;36m10\u001b[0m\u001b[0;34m,\u001b[0m\u001b[0;34m\u001b[0m\u001b[0m\n\u001b[0;32m----> 3\u001b[0;31m           validation_data = (x_test, y_test))\n\u001b[0m",
      "\u001b[0;32m~/anaconda3/lib/python3.6/site-packages/keras/engine/training.py\u001b[0m in \u001b[0;36mfit\u001b[0;34m(self, x, y, batch_size, epochs, verbose, callbacks, validation_split, validation_data, shuffle, class_weight, sample_weight, initial_epoch, steps_per_epoch, validation_steps, **kwargs)\u001b[0m\n\u001b[1;32m    950\u001b[0m             \u001b[0msample_weight\u001b[0m\u001b[0;34m=\u001b[0m\u001b[0msample_weight\u001b[0m\u001b[0;34m,\u001b[0m\u001b[0;34m\u001b[0m\u001b[0m\n\u001b[1;32m    951\u001b[0m             \u001b[0mclass_weight\u001b[0m\u001b[0;34m=\u001b[0m\u001b[0mclass_weight\u001b[0m\u001b[0;34m,\u001b[0m\u001b[0;34m\u001b[0m\u001b[0m\n\u001b[0;32m--> 952\u001b[0;31m             batch_size=batch_size)\n\u001b[0m\u001b[1;32m    953\u001b[0m         \u001b[0;31m# Prepare validation data.\u001b[0m\u001b[0;34m\u001b[0m\u001b[0;34m\u001b[0m\u001b[0m\n\u001b[1;32m    954\u001b[0m         \u001b[0mdo_validation\u001b[0m \u001b[0;34m=\u001b[0m \u001b[0;32mFalse\u001b[0m\u001b[0;34m\u001b[0m\u001b[0m\n",
      "\u001b[0;32m~/anaconda3/lib/python3.6/site-packages/keras/engine/training.py\u001b[0m in \u001b[0;36m_standardize_user_data\u001b[0;34m(self, x, y, sample_weight, class_weight, check_array_lengths, batch_size)\u001b[0m\n\u001b[1;32m    749\u001b[0m             \u001b[0mfeed_input_shapes\u001b[0m\u001b[0;34m,\u001b[0m\u001b[0;34m\u001b[0m\u001b[0m\n\u001b[1;32m    750\u001b[0m             \u001b[0mcheck_batch_axis\u001b[0m\u001b[0;34m=\u001b[0m\u001b[0;32mFalse\u001b[0m\u001b[0;34m,\u001b[0m  \u001b[0;31m# Don't enforce the batch size.\u001b[0m\u001b[0;34m\u001b[0m\u001b[0m\n\u001b[0;32m--> 751\u001b[0;31m             exception_prefix='input')\n\u001b[0m\u001b[1;32m    752\u001b[0m \u001b[0;34m\u001b[0m\u001b[0m\n\u001b[1;32m    753\u001b[0m         \u001b[0;32mif\u001b[0m \u001b[0my\u001b[0m \u001b[0;32mis\u001b[0m \u001b[0;32mnot\u001b[0m \u001b[0;32mNone\u001b[0m\u001b[0;34m:\u001b[0m\u001b[0;34m\u001b[0m\u001b[0m\n",
      "\u001b[0;32m~/anaconda3/lib/python3.6/site-packages/keras/engine/training_utils.py\u001b[0m in \u001b[0;36mstandardize_input_data\u001b[0;34m(data, names, shapes, check_batch_axis, exception_prefix)\u001b[0m\n\u001b[1;32m    126\u001b[0m                         \u001b[0;34m': expected '\u001b[0m \u001b[0;34m+\u001b[0m \u001b[0mnames\u001b[0m\u001b[0;34m[\u001b[0m\u001b[0mi\u001b[0m\u001b[0;34m]\u001b[0m \u001b[0;34m+\u001b[0m \u001b[0;34m' to have '\u001b[0m \u001b[0;34m+\u001b[0m\u001b[0;34m\u001b[0m\u001b[0m\n\u001b[1;32m    127\u001b[0m                         \u001b[0mstr\u001b[0m\u001b[0;34m(\u001b[0m\u001b[0mlen\u001b[0m\u001b[0;34m(\u001b[0m\u001b[0mshape\u001b[0m\u001b[0;34m)\u001b[0m\u001b[0;34m)\u001b[0m \u001b[0;34m+\u001b[0m \u001b[0;34m' dimensions, but got array '\u001b[0m\u001b[0;34m\u001b[0m\u001b[0m\n\u001b[0;32m--> 128\u001b[0;31m                         'with shape ' + str(data_shape))\n\u001b[0m\u001b[1;32m    129\u001b[0m                 \u001b[0;32mif\u001b[0m \u001b[0;32mnot\u001b[0m \u001b[0mcheck_batch_axis\u001b[0m\u001b[0;34m:\u001b[0m\u001b[0;34m\u001b[0m\u001b[0m\n\u001b[1;32m    130\u001b[0m                     \u001b[0mdata_shape\u001b[0m \u001b[0;34m=\u001b[0m \u001b[0mdata_shape\u001b[0m\u001b[0;34m[\u001b[0m\u001b[0;36m1\u001b[0m\u001b[0;34m:\u001b[0m\u001b[0;34m]\u001b[0m\u001b[0;34m\u001b[0m\u001b[0m\n",
      "\u001b[0;31mValueError\u001b[0m: Error when checking input: expected conv2d_5_input to have 4 dimensions, but got array with shape (170, 115, 3)"
     ]
    }
   ],
   "source": [
    "model.fit(x_try_array, \"epho\", batch_size = 100, \n",
    "          epochs = 10, \n",
    "          validation_data = (x_test, y_test))"
   ]
  },
  {
   "cell_type": "code",
   "execution_count": null,
   "metadata": {},
   "outputs": [],
   "source": [
    "score = model.evaluate(x_test, y_test)"
   ]
  },
  {
   "cell_type": "code",
   "execution_count": 40,
   "metadata": {
    "scrolled": false
   },
   "outputs": [],
   "source": [
    "def predict(filename, featuresize):\n",
    "    img = image.load_img(filename, target_size=(224, 224))\n",
    "    x = image.img_to_array(img)\n",
    "    x = np.expand_dims(x, axis=0)\n",
    "    preds = model.predict(preprocess_input(x))\n",
    "    results = decode_predictions(preds, top=featuresize)[0]\n",
    "    return results"
   ]
  },
  {
   "cell_type": "code",
   "execution_count": 44,
   "metadata": {},
   "outputs": [],
   "source": [
    "def showimg(filename, title, i):\n",
    "    im = Image.open(filename)\n",
    "    im_list = np.asarray(im)\n",
    "    plt.subplot(2,5,i)\n",
    "    plt.title(title)\n",
    "    plt.axis(\"off\")\n",
    "    plt.imshow(im_list)"
   ]
  },
  {
   "cell_type": "code",
   "execution_count": 47,
   "metadata": {},
   "outputs": [
    {
     "data": {
      "text/plain": [
       "<Figure size 1440x720 with 0 Axes>"
      ]
     },
     "metadata": {},
     "output_type": "display_data"
    }
   ],
   "source": [
    "filename = \"/Users/wuyouxin/Downloads/IMG_4802.JPG\"\n",
    "plt.figure(figsize=(20, 10))\n",
    "for i in range(1):\n",
    "    showimg(filename, \"query\", i+1)\n",
    "plt.show()\n",
    "results = predict(filename, 10)\n",
    "for result in results:\n",
    "    print(result)"
   ]
  },
  {
   "cell_type": "code",
   "execution_count": 2,
   "metadata": {},
   "outputs": [
    {
     "data": {
      "text/plain": [
       "'/Users/wuyouxin/Documents/Python/Python_Junior/data/celebritys/test'"
      ]
     },
     "execution_count": 2,
     "metadata": {},
     "output_type": "execute_result"
    }
   ],
   "source": [
    "\"/Users/wuyouxin/Documents/Python/Python_Junior/data/celebritys/test\""
   ]
  },
  {
   "cell_type": "code",
   "execution_count": 24,
   "metadata": {},
   "outputs": [],
   "source": [
    "#path = /Users/wuyouxin/Documents/Python/Python_Junior/data/celebritys/test\n",
    "def resize_all(path, x_size, y_size):\n",
    "    for i in os.listdir(path):\n",
    "        if (i != \".DS_Store\"):\n",
    "            for j in os.listdir(os.path.join(path, i)):\n",
    "                if (j != \".DS_store\"):\n",
    "                    newpath = os.path.join(path, i, j)\n",
    "                    fig = cv2.imread(newpath)\n",
    "                    # troble shoot gif problem\n",
    "                    try:\n",
    "                        refig = cv2.resize(fig, (x_size, y_size))\n",
    "                        cv2.imwrite(newpath, refig)\n",
    "                    except:\n",
    "                        os.remove(newpath)\n",
    "                        \n"
   ]
  },
  {
   "cell_type": "code",
   "execution_count": null,
   "metadata": {},
   "outputs": [],
   "source": [
    "            \n",
    "for i in os.listdir(path):\n",
    "    if (i != \".DS_Store\"):\n",
    "        for j in os.listdir(path+i):\n",
    "            if (j != \".DS_Store\"):\n",
    "                newpath = path+i+\"/\"+j\n",
    "                fig = cv2.imread(newpath)\n",
    "                #print(newpath)\n",
    "                try:\n",
    "                    refig = cv2.resize(fig, (100, 100))\n",
    "                    cv2.imwrite(newpath,refig)\n",
    "                except:\n",
    "                    os.remove(newpath)"
   ]
  },
  {
   "cell_type": "code",
   "execution_count": 26,
   "metadata": {},
   "outputs": [],
   "source": [
    "def load_dataset(path):\n",
    "    data = load_files(path)\n",
    "    files = np.array(data['filenames'])\n",
    "    targets = np.array(data['target'])\n",
    "    target_labels = np.array(data['target_names'])\n",
    "    return files,targets,target_labels"
   ]
  },
  {
   "cell_type": "code",
   "execution_count": 27,
   "metadata": {},
   "outputs": [],
   "source": [
    "x_train, y_train, train_label = load_dataset(\"/Users/wuyouxin/Documents/Python/Python_Junior/data/celebritys/train\")\n",
    "x_test, y_test, test_label = load_dataset(\"/Users/wuyouxin/Documents/Python/Python_Junior/data/celebritys/test\")"
   ]
  },
  {
   "cell_type": "code",
   "execution_count": 28,
   "metadata": {},
   "outputs": [
    {
     "data": {
      "text/plain": [
       "array([ 0,  1,  2,  3,  4,  5,  6,  7,  8,  9, 10, 11])"
      ]
     },
     "execution_count": 28,
     "metadata": {},
     "output_type": "execute_result"
    }
   ],
   "source": [
    "np.unique(y_train)"
   ]
  },
  {
   "cell_type": "code",
   "execution_count": 29,
   "metadata": {},
   "outputs": [],
   "source": [
    "def pridect(path):\n",
    "    fig = cv2.imread(path)\n",
    "    print(fig.shape)\n",
    "    refig = np.array([cv2.resize(fig, (100,100))])\n",
    "    print(refig.shape)\n",
    "    results = model1.predict(refig, 5)[0]\n",
    "    for i in np.arange(len(results)):\n",
    "        print(test_label[i])\n",
    "        print(results[i])"
   ]
  },
  {
   "cell_type": "code",
   "execution_count": null,
   "metadata": {},
   "outputs": [],
   "source": []
  }
 ],
 "metadata": {
  "kernelspec": {
   "display_name": "Python 3",
   "language": "python",
   "name": "python3"
  },
  "language_info": {
   "codemirror_mode": {
    "name": "ipython",
    "version": 3
   },
   "file_extension": ".py",
   "mimetype": "text/x-python",
   "name": "python",
   "nbconvert_exporter": "python",
   "pygments_lexer": "ipython3",
   "version": "3.6.5"
  }
 },
 "nbformat": 4,
 "nbformat_minor": 2
}
