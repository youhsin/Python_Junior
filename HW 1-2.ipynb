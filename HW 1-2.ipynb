{
 "cells": [
  {
   "cell_type": "code",
   "execution_count": 1,
   "metadata": {
    "scrolled": true
   },
   "outputs": [],
   "source": [
    "import numpy as np\n"
   ]
  },
  {
   "cell_type": "code",
   "execution_count": 3,
   "metadata": {},
   "outputs": [
    {
     "name": "stdout",
     "output_type": "stream",
     "text": [
      "1~99猜一下\n",
      ">>99.5\n",
      "最多99拉,大哥\n",
      ">>0.5\n",
      "從1開始齁,ORZ\n",
      ">>50\n",
      "再小一點\n",
      ">>25\n",
      "再小一點\n",
      ">>10\n",
      "再大一點\n",
      ">>15\n",
      "再大一點\n",
      ">>20\n",
      "恭喜答對\n"
     ]
    }
   ],
   "source": [
    "print (\"1~99猜一下\")\n",
    "a=np.random.randint(1,100)\n",
    "message=float(input(\">>\"))\n",
    "while message!=a:\n",
    "    \n",
    "    if message>a and message>99:\n",
    "        print(\"最多99拉,大哥\")\n",
    "    elif 100>message>a :\n",
    "        print(\"再小一點\")\n",
    "\n",
    "    if message<a and message<1:\n",
    "        print(\"從1開始齁,ORZ\")\n",
    "    elif 0<message<a :\n",
    "        print(\"再大一點\")\n",
    " \n",
    "    message=float(input(\">>\"))\n",
    "print(\"恭喜答對\")"
   ]
  },
  {
   "cell_type": "code",
   "execution_count": null,
   "metadata": {},
   "outputs": [],
   "source": []
  }
 ],
 "metadata": {
  "kernelspec": {
   "display_name": "Python 3",
   "language": "python",
   "name": "python3"
  },
  "language_info": {
   "codemirror_mode": {
    "name": "ipython",
    "version": 3
   },
   "file_extension": ".py",
   "mimetype": "text/x-python",
   "name": "python",
   "nbconvert_exporter": "python",
   "pygments_lexer": "ipython3",
   "version": "3.6.5"
  }
 },
 "nbformat": 4,
 "nbformat_minor": 2
}
