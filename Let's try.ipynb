{
 "cells": [
  {
   "cell_type": "code",
   "execution_count": 91,
   "metadata": {
    "scrolled": true
   },
   "outputs": [],
   "source": [
    "%matplotlib inline\n",
    "import numpy as np\n",
    "import matplotlib.pyplot as plt\n",
    "\n",
    "from keras.preprocessing.image import array_to_img, img_to_array, load_img\n",
    "from sklearn.datasets import load_files\n",
    "from sklearn import datasets\n",
    "from keras.applications.vgg16 import VGG16\n",
    "\n",
    "\n",
    "import os, sys\n",
    "import cv2\n",
    "\n",
    "\n",
    "\n",
    "from PIL import Image \n",
    "from tqdm import tqdm_notebook \n",
    "from random import shuffle \n",
    "import shutil \n",
    "import pandas as pd \n",
    "\n",
    "from keras.utils import np_utils\n",
    "from keras.models import Sequential\n",
    "from keras.layers.core import Flatten, Dense, Dropout, Activation\n",
    "from keras.layers.convolutional import Convolution2D, MaxPooling2D, ZeroPadding2D\n",
    "from keras.optimizers import SGD\n",
    "\n",
    "import os\n",
    "from PIL import Image\n",
    "from keras.models import load_model\n",
    "from ipywidgets import interact"
   ]
  },
  {
   "cell_type": "markdown",
   "metadata": {},
   "source": [
    "# open the finder\n",
    "path = \"/Users/wuyouxin/Documents/Python/Python_Junior/資料庫/train/\"\n",
    "dirs = os.listdir(path)# 打開路徑\n",
    "\n"
   ]
  },
  {
   "cell_type": "markdown",
   "metadata": {},
   "source": [
    "# print all files\n",
    "for file in dirs:\n",
    "    print(file)"
   ]
  },
  {
   "cell_type": "markdown",
   "metadata": {},
   "source": [
    "# 不同種讀入方法\n",
    "for f in dirs:\n",
    "    dirs2 = os.path.join(path, f) # 會loop但只會儲存最後一個路徑\n",
    "dirs3 = [os.path.join(path, f) for f in dirs] \n",
    "# 此法會把路徑儲存成為一條字串;join的語法是為了接上路徑\n",
    "dirs3"
   ]
  },
  {
   "cell_type": "markdown",
   "metadata": {},
   "source": [
    "path = \"/Users/wuyouxin/Desktop/try\"\n",
    "\n",
    "os.makedirs(path, 755)\n",
    "\n",
    "print(\"路徑被創建\")"
   ]
  },
  {
   "cell_type": "markdown",
   "metadata": {},
   "source": [
    "def organize_datasets(path_to_data, n=4000, ratio=0.2): \n",
    "    files = os.listdir(path_to_data) \n",
    "    files = [os.path.join(path_to_data, f)  for f  in files] \n",
    "    shuffle(files) \n",
    "    files = files[:n] \n",
    "\n",
    "    n = int(len(files) * ratio) \n",
    "    val, train = files[:n], files[n:] \n",
    "\n",
    "    for c  in ['dogs', 'cats']: \n",
    "        os.makedirs('./data/train/{0}/'.format(c)) \n",
    "        os.makedirs('./data/validation/{0}/'.format(c)) \n",
    "\n",
    "    print('folders created !') \n",
    "\n",
    "    for t  in tqdm_notebook(train): \n",
    "        if 'cat' in t: \n",
    "            shutil.copy2(t, os.path.join('.', 'data', 'train', 'cats')) \n",
    "        else: \n",
    "            shutil.copy2(t, os.path.join('.', 'data', 'train', 'dogs')) \n",
    "\n",
    "    for v  in tqdm_notebook(val): \n",
    "        if 'cat' in v: \n",
    "            shutil.copy2(v, os.path.join('.', 'data', 'validation', 'cats')) \n",
    "        else: \n",
    "            shutil.copy2(v, os.path.join('.', 'data', 'validation', 'dogs')) \n",
    "        print('Data copied!') "
   ]
  },
  {
   "cell_type": "markdown",
   "metadata": {},
   "source": [
    "shutil.rmtree('./data/') \n",
    "print('/data/ removed') "
   ]
  },
  {
   "cell_type": "markdown",
   "metadata": {
    "collapsed": true
   },
   "source": [
    "I = cv2.imread(\"/Users/wuyouxin/Documents/Python/Python_Junior/資料庫/train/ben_afflek/httpcsvkmeuaeccjpg.jpg\")\n",
    "I\n",
    "#利用opencv-python接口\n",
    "#cv2.imread()读出来同样是array形式，但是如果是单通道的图，读出来的是三通道的"
   ]
  },
  {
   "cell_type": "markdown",
   "metadata": {},
   "source": [
    "I = Image.open(\"/Users/wuyouxin/Documents/Python/Python_Junior/資料庫/train/ben_afflek/httpcsvkmeuaeccjpg.jpg\")\n",
    "I_array = np.array(I)\n",
    "I_array.shape\n",
    "#方法一：利用PIL中的Image函数，这个函数读取出来不是array格式\n",
    "#这时候需要用 np.asarray(im) 或者np.array（）函数\n"
   ]
  },
  {
   "cell_type": "markdown",
   "metadata": {},
   "source": [
    "I_gray = cv2.cvtColor(I_array, cv2.COLOR_BGR2GRAY)# cv2的灰階轉換"
   ]
  },
  {
   "cell_type": "markdown",
   "metadata": {},
   "source": [
    "# 分三通道\n",
    "def get_red(img):\n",
    "    redImg = img[:, :, 2]\n",
    "    return redImg\n",
    "def get_green(img):\n",
    "    greenImg = img[:, :, 1]\n",
    "    return greenImg\n",
    "def get_blue(img):\n",
    "    blueImg = img[:, :, 0]\n",
    "    return blueImg\n",
    "#灰階轉換\n",
    "def get_gray(img):\n",
    "    grayImg = 0.2989*img[:, :, 0] + 0.5870*img[:, :, 1] + 0.1140*img[:, :, 2]\n",
    "    return grayImg"
   ]
  },
  {
   "cell_type": "markdown",
   "metadata": {},
   "source": [
    "def ResizeAndConToNumpyArray(pic,X_size,Y_size):\n",
    "    gray = pic.convert('L')\n",
    "    gray_rz = gray.resize((X_size,Y_size), Image.ANTIALIAS)\n",
    "    np_gray= np.array(gray_rz,float)\n",
    "    np_gray = np_gray.ravel()\n",
    "    np_gray /= 255\n",
    "    return np_gray"
   ]
  },
  {
   "cell_type": "markdown",
   "metadata": {},
   "source": [
    "def load_data(data_path):\n",
    "    img = Image.open(data_path)\n",
    "    img_array = np.array(img)\n",
    "    #歸一化\n",
    "    img_array -= img_array.min()\n",
    "    img_array /= img_array.max()\n",
    "    \n",
    "    "
   ]
  },
  {
   "cell_type": "markdown",
   "metadata": {},
   "source": [
    "# 改檔名神器"
   ]
  },
  {
   "cell_type": "markdown",
   "metadata": {},
   "source": [
    "## 不要重複執行，會覆蓋檔案\n",
    "```\n",
    "label_name = os.listdir(\"/Users/wuyouxin/Documents/Python/Python_Junior/data/celebritys/train\")[:]\n",
    "\n",
    "for j in label_name:\n",
    "    if (j != \".DS_Store\"):\n",
    "        path = \"/Users/wuyouxin/Documents/Python/Python_Junior/data/celebritys/test/\"+j+\"/\"\n",
    "        files = os.listdir(path)\n",
    "        n = 0\n",
    "        for i in files:\n",
    "            if (i != \".DS_Store\"):\n",
    "                old = path+i\n",
    "                new = path+j+\"_\"+str(n)+\".jpg\"\n",
    "                os.rename(old, new)\n",
    "                n = n+1\n",
    "```"
   ]
  },
  {
   "cell_type": "markdown",
   "metadata": {},
   "source": [
    "# 製作照片路徑"
   ]
  },
  {
   "cell_type": "code",
   "execution_count": 46,
   "metadata": {},
   "outputs": [],
   "source": [
    "def load_photo(path):\n",
    "    x = []\n",
    "    for i in os.listdir(path):\n",
    "        if (i != \".DS_Store\"):\n",
    "            for j in os.listdir(os.path.join(path, i)):\n",
    "                if (j != \".DS_Store\"):\n",
    "                    x.append(os.path.join(path, i, j))\n",
    "    x1 = []\n",
    "    for ii in x:\n",
    "        x1.append(np.array(Image.open(ii)))\n",
    "    x1 = np.array(x1)\n",
    "    return x1"
   ]
  },
  {
   "cell_type": "markdown",
   "metadata": {},
   "source": [
    "# 整理照片為同維度"
   ]
  },
  {
   "cell_type": "code",
   "execution_count": 47,
   "metadata": {},
   "outputs": [],
   "source": [
    "#調整照片\n",
    "#path = /Users/wuyouxin/Documents/Python/Python_Junior/data/celebritys/test\n",
    "def resize_all(path, x_size, y_size):\n",
    "    for i in os.listdir(path):\n",
    "        if (i != \".DS_Store\"):\n",
    "            for j in os.listdir(os.path.join(path, i)):\n",
    "                if (j != \".DS_store\"):\n",
    "                    newpath = os.path.join(path, i, j)\n",
    "                    fig = cv2.imread(newpath)\n",
    "                    # troble shoot gif problem\n",
    "                    try:\n",
    "                        refig = cv2.resize(fig, (x_size, y_size))\n",
    "                        cv2.imwrite(newpath, refig)\n",
    "                    except:\n",
    "                        os.remove(newpath)"
   ]
  },
  {
   "cell_type": "markdown",
   "metadata": {},
   "source": [
    "# 資料處理區"
   ]
  },
  {
   "cell_type": "code",
   "execution_count": 49,
   "metadata": {},
   "outputs": [],
   "source": [
    "#去除mac會產生的DS檔\n",
    "def remove_ds_store(path):\n",
    "    for i in listdir(path):\n",
    "        if (i == \".DS_store\"):\n",
    "            os.remove(os.path.join(path, i))"
   ]
  },
  {
   "cell_type": "code",
   "execution_count": 50,
   "metadata": {},
   "outputs": [],
   "source": [
    "#讀取label資料\n",
    "def load_dataset(path):\n",
    "    data = load_files(path)\n",
    "    targets = np.array(data['target'])\n",
    "    target_labels = np.array(data['target_names'])\n",
    "    return targets,target_labels"
   ]
  },
  {
   "cell_type": "code",
   "execution_count": 51,
   "metadata": {},
   "outputs": [],
   "source": [
    "#讀取照片矩陣\n",
    "def load_photo(path):\n",
    "    x = []\n",
    "    for i in os.listdir(path):\n",
    "        if (i != \".DS_Store\"):\n",
    "            for j in os.listdir(os.path.join(path, i)):\n",
    "                if (j != \".DS_Store\"):\n",
    "                    x.append(os.path.join(path, i, j))\n",
    "    x1 = []\n",
    "    for ii in x:\n",
    "        x1.append(np.array(Image.open(ii)))\n",
    "    x1 = np.array(x1)\n",
    "    return x1"
   ]
  },
  {
   "cell_type": "code",
   "execution_count": 52,
   "metadata": {},
   "outputs": [],
   "source": [
    "y_train, train_label = load_dataset(\"/Users/wuyouxin/Documents/Python/Python_Junior/data/celebritys/train\")\n",
    "y_test, test_label = load_dataset(\"/Users/wuyouxin/Documents/Python/Python_Junior/data/celebritys/test\")"
   ]
  },
  {
   "cell_type": "code",
   "execution_count": 53,
   "metadata": {},
   "outputs": [],
   "source": [
    "x_train = load_photo(\"/Users/wuyouxin/Documents/Python/Python_Junior/data/celebritys/train/\")\n",
    "x_test = load_photo(\"/Users/wuyouxin/Documents/Python/Python_Junior/data/celebritys/test/\")"
   ]
  },
  {
   "cell_type": "code",
   "execution_count": 54,
   "metadata": {},
   "outputs": [
    {
     "name": "stdout",
     "output_type": "stream",
     "text": [
      "(6360, 100, 100, 3)\n",
      "(1521, 100, 100, 3)\n"
     ]
    }
   ],
   "source": [
    "print(x_train.shape)\n",
    "print(x_test.shape)"
   ]
  },
  {
   "cell_type": "code",
   "execution_count": 55,
   "metadata": {},
   "outputs": [],
   "source": [
    "x_train=x_train/255\n",
    "x_test=x_test/255"
   ]
  },
  {
   "cell_type": "code",
   "execution_count": 56,
   "metadata": {
    "scrolled": true
   },
   "outputs": [
    {
     "name": "stdout",
     "output_type": "stream",
     "text": [
      "1.0\n",
      "0.0\n"
     ]
    }
   ],
   "source": [
    "print(x_train.max())\n",
    "print(x_test.min())"
   ]
  },
  {
   "cell_type": "code",
   "execution_count": 57,
   "metadata": {},
   "outputs": [],
   "source": [
    "y_train=np_utils.to_categorical(y_train, 12)\n",
    "y_test=np_utils.to_categorical(y_test, 12)"
   ]
  },
  {
   "cell_type": "code",
   "execution_count": 58,
   "metadata": {
    "scrolled": false
   },
   "outputs": [
    {
     "name": "stdout",
     "output_type": "stream",
     "text": [
      "(6360, 12)\n",
      "(1521, 12)\n"
     ]
    }
   ],
   "source": [
    "print(y_train.shape)\n",
    "print(y_test.shape)"
   ]
  },
  {
   "cell_type": "markdown",
   "metadata": {},
   "source": [
    "# 畫圖及存檔的函數"
   ]
  },
  {
   "cell_type": "code",
   "execution_count": 266,
   "metadata": {},
   "outputs": [],
   "source": [
    "#對epoch次數作圖\n",
    "def graphic(f, epoch_num):\n",
    "    \n",
    "    plt.subplot(2, 1, 1)\n",
    "    plt.plot(f.history[\"acc\"], linewidth = 2, color = \"r\", linestyle = \"--\")\n",
    "    plt.xlabel(\"epochs\")\n",
    "    plt.ylabel(\"acc\")\n",
    "    plt.xticks(np.arange(0, epoch_num, 1))\n",
    "    plt.title(\"model\")\n",
    "\n",
    "\n",
    "    plt.subplot(2, 1, 2)\n",
    "    plt.plot(f.history[\"loss\"], linewidth = 2, color = \"g\", linestyle = \":\")\n",
    "    plt.ylabel(\"loss\")\n",
    "    plt.xlabel(\"epochs\")\n",
    "    plt.xticks(np.arange(0, epoch_num, 1))\n",
    "    plt.tight_layout() #防止重疊"
   ]
  },
  {
   "cell_type": "code",
   "execution_count": 307,
   "metadata": {},
   "outputs": [],
   "source": [
    "# 對存好的txt作圖\n",
    "def graphic_txt(acc_path, loss_path):\n",
    "    f = open(acc_path, \"r\")\n",
    "    f1 = f.readlines()\n",
    "    f2 = []\n",
    "    for i in f1:\n",
    "        f2.append(round(float(i.split(\"\\n\")[0]),5))\n",
    "   \n",
    "    g = open(loss_path, \"r\")\n",
    "    g1 = g.readlines()\n",
    "    g2 = []\n",
    "    for j in g1:\n",
    "        g2.append(round(float(j.split(\"\\n\")[0]),5))\n",
    "    \n",
    "    \n",
    "    \n",
    "    plt.subplot(2, 1, 1)\n",
    "    plt.plot(f2, linewidth = 2, color = \"r\", linestyle = \"--\")\n",
    "    plt.xlabel(\"epochs\")\n",
    "    plt.ylabel(\"acc\")\n",
    "    plt.xticks(np.arange(0, len(f1), 1))\n",
    "\n",
    "    plt.subplot(2, 1, 2)\n",
    "    plt.plot(g2, linewidth = 2, color = \"g\", linestyle = \":\")\n",
    "    plt.ylabel(\"loss\")\n",
    "    plt.xlabel(\"epochs\")\n",
    "    plt.xticks(np.arange(0, len(f1), 1))\n",
    "    plt.tight_layout() #防止重疊"
   ]
  },
  {
   "cell_type": "code",
   "execution_count": 255,
   "metadata": {},
   "outputs": [],
   "source": [
    "def save(path, model_num):\n",
    "    models = [model1, model2, model3, model4]\n",
    "    fittings = [fitting1, fitting2, fitting3, fitting4]\n",
    "    # save weight\n",
    "    models[model_num-1].save(os.path.join(path, \"final_model\"+str(model_num)+\".h5\"))\n",
    "    # save training process\n",
    "    np.savetxt(os.path.join(path, \"final_model\"+str(model_num)+\"_acc.txt\"), np.array(fittings[model_num-1].history[\"acc\"]))\n",
    "    np.savetxt(os.path.join(path, \"final_model\"+str(model_num)+\"_loss.txt\"), np.array(fittings[model_num-1].history[\"loss\"]))"
   ]
  },
  {
   "cell_type": "markdown",
   "metadata": {},
   "source": [
    "# 模型區 \n",
    "### Model 1"
   ]
  },
  {
   "cell_type": "code",
   "execution_count": 60,
   "metadata": {},
   "outputs": [],
   "source": [
    "model1= Sequential()\n",
    "\n",
    "model1.add(Convolution2D(3,(5,5), padding=\"same\", input_shape=(100,100,3)))\n",
    "model1.add(Activation(\"relu\"))\n",
    "model1.add(MaxPooling2D(pool_size=(2,2)))\n",
    "\n",
    "model1.add(Convolution2D(6,(5,5), padding=\"same\", input_shape=(100,100,3)))\n",
    "model1.add(Activation(\"relu\"))\n",
    "model1.add(MaxPooling2D(pool_size=(2,2)))\n",
    "\n",
    "model1.add(Convolution2D(9,(5,5), padding=\"same\", input_shape=(100,100,3)))\n",
    "model1.add(Activation(\"relu\"))\n",
    "model1.add(MaxPooling2D(pool_size=(2,2)))\n",
    "\n",
    "model1.add(Convolution2D(12,(5,5), padding=\"same\", input_shape=(100,100,3)))\n",
    "model1.add(Activation(\"relu\"))\n",
    "model1.add(MaxPooling2D(pool_size=(2,2)))\n",
    "\n",
    "model1.add(Flatten())\n",
    "model1.add(Dense(12))\n",
    "model1.add(Activation(\"softmax\"))\n",
    "\n"
   ]
  },
  {
   "cell_type": "code",
   "execution_count": 61,
   "metadata": {},
   "outputs": [],
   "source": [
    "model1.compile(loss=\"mse\",\n",
    "              optimizer=SGD(lr=0.05),\n",
    "              metrics=[\"accuracy\"])"
   ]
  },
  {
   "cell_type": "code",
   "execution_count": 62,
   "metadata": {
    "scrolled": true
   },
   "outputs": [
    {
     "name": "stdout",
     "output_type": "stream",
     "text": [
      "Epoch 1/10\n",
      "6360/6360 [==============================] - 60s 9ms/step - loss: 0.0765 - acc: 0.0881\n",
      "Epoch 2/10\n",
      "6360/6360 [==============================] - 58s 9ms/step - loss: 0.0764 - acc: 0.0841\n",
      "Epoch 3/10\n",
      "6360/6360 [==============================] - 58s 9ms/step - loss: 0.0764 - acc: 0.0860\n",
      "Epoch 4/10\n",
      "6360/6360 [==============================] - 58s 9ms/step - loss: 0.0764 - acc: 0.0879\n",
      "Epoch 5/10\n",
      "6360/6360 [==============================] - 58s 9ms/step - loss: 0.0764 - acc: 0.0876\n",
      "Epoch 6/10\n",
      "6360/6360 [==============================] - 58s 9ms/step - loss: 0.0764 - acc: 0.0874\n",
      "Epoch 7/10\n",
      "6360/6360 [==============================] - 58s 9ms/step - loss: 0.0764 - acc: 0.0846\n",
      "Epoch 8/10\n",
      "6360/6360 [==============================] - 58s 9ms/step - loss: 0.0764 - acc: 0.0846\n",
      "Epoch 9/10\n",
      "6360/6360 [==============================] - 59s 9ms/step - loss: 0.0764 - acc: 0.0882\n",
      "Epoch 10/10\n",
      "6360/6360 [==============================] - 58s 9ms/step - loss: 0.0764 - acc: 0.0885\n"
     ]
    }
   ],
   "source": [
    "fitting1 = model1.fit(x_train, y_train, batch_size = 10, epochs = 10)"
   ]
  },
  {
   "cell_type": "code",
   "execution_count": 63,
   "metadata": {
    "scrolled": true
   },
   "outputs": [
    {
     "name": "stdout",
     "output_type": "stream",
     "text": [
      "1521/1521 [==============================] - 7s 5ms/step\n"
     ]
    }
   ],
   "source": [
    "score1=model1.evaluate(x_test,y_test)"
   ]
  },
  {
   "cell_type": "code",
   "execution_count": 64,
   "metadata": {
    "scrolled": false
   },
   "outputs": [
    {
     "name": "stdout",
     "output_type": "stream",
     "text": [
      "loss:  0.07641772024044467\n",
      "accuracy:  0.08021038790514483\n"
     ]
    }
   ],
   "source": [
    "print('loss: ',score1[0])\n",
    "print('accuracy: ',score1[1])"
   ]
  },
  {
   "cell_type": "code",
   "execution_count": 256,
   "metadata": {},
   "outputs": [],
   "source": [
    "save(\"/Users/wuyouxin/Documents/Python/Python_Junior/weight\",1)"
   ]
  },
  {
   "cell_type": "code",
   "execution_count": 267,
   "metadata": {},
   "outputs": [
    {
     "data": {
      "image/png": "[encoded data removed]",
      "text/plain": [
       "<Figure size 432x288 with 2 Axes>"
      ]
     },
     "metadata": {},
     "output_type": "display_data"
    }
   ],
   "source": [
    "graphic(fitting1,10)"
   ]
  },
  {
   "cell_type": "markdown",
   "metadata": {},
   "source": [
    "### Model 2"
   ]
  },
  {
   "cell_type": "code",
   "execution_count": 67,
   "metadata": {},
   "outputs": [
    {
     "name": "stderr",
     "output_type": "stream",
     "text": [
      "/Users/wuyouxin/anaconda3/lib/python3.6/site-packages/ipykernel_launcher.py:3: UserWarning: Update your `Conv2D` call to the Keras 2 API: `Conv2D(64, (3, 3), activation=\"relu\")`\n",
      "  This is separate from the ipykernel package so we can avoid doing imports until\n",
      "/Users/wuyouxin/anaconda3/lib/python3.6/site-packages/ipykernel_launcher.py:5: UserWarning: Update your `Conv2D` call to the Keras 2 API: `Conv2D(64, (3, 3), activation=\"relu\")`\n",
      "  \"\"\"\n",
      "/Users/wuyouxin/anaconda3/lib/python3.6/site-packages/ipykernel_launcher.py:9: UserWarning: Update your `Conv2D` call to the Keras 2 API: `Conv2D(128, (3, 3), activation=\"relu\")`\n",
      "  if __name__ == '__main__':\n",
      "/Users/wuyouxin/anaconda3/lib/python3.6/site-packages/ipykernel_launcher.py:11: UserWarning: Update your `Conv2D` call to the Keras 2 API: `Conv2D(128, (3, 3), activation=\"relu\")`\n",
      "  # This is added back by InteractiveShellApp.init_path()\n",
      "/Users/wuyouxin/anaconda3/lib/python3.6/site-packages/ipykernel_launcher.py:15: UserWarning: Update your `Conv2D` call to the Keras 2 API: `Conv2D(256, (3, 3), activation=\"relu\")`\n",
      "  from ipykernel import kernelapp as app\n",
      "/Users/wuyouxin/anaconda3/lib/python3.6/site-packages/ipykernel_launcher.py:17: UserWarning: Update your `Conv2D` call to the Keras 2 API: `Conv2D(256, (3, 3), activation=\"relu\")`\n",
      "/Users/wuyouxin/anaconda3/lib/python3.6/site-packages/ipykernel_launcher.py:19: UserWarning: Update your `Conv2D` call to the Keras 2 API: `Conv2D(256, (3, 3), activation=\"relu\")`\n",
      "/Users/wuyouxin/anaconda3/lib/python3.6/site-packages/ipykernel_launcher.py:23: UserWarning: Update your `Conv2D` call to the Keras 2 API: `Conv2D(512, (3, 3), activation=\"relu\")`\n",
      "/Users/wuyouxin/anaconda3/lib/python3.6/site-packages/ipykernel_launcher.py:25: UserWarning: Update your `Conv2D` call to the Keras 2 API: `Conv2D(512, (3, 3), activation=\"relu\")`\n",
      "/Users/wuyouxin/anaconda3/lib/python3.6/site-packages/ipykernel_launcher.py:27: UserWarning: Update your `Conv2D` call to the Keras 2 API: `Conv2D(512, (3, 3), activation=\"relu\")`\n",
      "/Users/wuyouxin/anaconda3/lib/python3.6/site-packages/ipykernel_launcher.py:31: UserWarning: Update your `Conv2D` call to the Keras 2 API: `Conv2D(512, (3, 3), activation=\"relu\")`\n",
      "/Users/wuyouxin/anaconda3/lib/python3.6/site-packages/ipykernel_launcher.py:33: UserWarning: Update your `Conv2D` call to the Keras 2 API: `Conv2D(512, (3, 3), activation=\"relu\")`\n",
      "/Users/wuyouxin/anaconda3/lib/python3.6/site-packages/ipykernel_launcher.py:35: UserWarning: Update your `Conv2D` call to the Keras 2 API: `Conv2D(512, (3, 3), activation=\"relu\")`\n"
     ]
    }
   ],
   "source": [
    "model2 = Sequential()\n",
    "model2.add(ZeroPadding2D((1,1),input_shape=(100, 100, 3)))\n",
    "model2.add(Convolution2D(64, 3, 3, activation='relu'))\n",
    "model2.add(ZeroPadding2D((1,1)))\n",
    "model2.add(Convolution2D(64, 3, 3, activation='relu'))\n",
    "model2.add(MaxPooling2D((2,2), strides=(2,2)))\n",
    "\n",
    "model2.add(ZeroPadding2D((1,1)))\n",
    "model2.add(Convolution2D(128, 3, 3, activation='relu'))\n",
    "model2.add(ZeroPadding2D((1,1)))\n",
    "model2.add(Convolution2D(128, 3, 3, activation='relu'))\n",
    "model2.add(MaxPooling2D((2,2), strides=(2,2)))\n",
    "\n",
    "model2.add(ZeroPadding2D((1,1)))\n",
    "model2.add(Convolution2D(256, 3, 3, activation='relu'))\n",
    "model2.add(ZeroPadding2D((1,1)))\n",
    "model2.add(Convolution2D(256, 3, 3, activation='relu'))\n",
    "model2.add(ZeroPadding2D((1,1)))\n",
    "model2.add(Convolution2D(256, 3, 3, activation='relu'))\n",
    "model2.add(MaxPooling2D((2,2), strides=(2,2)))\n",
    "\n",
    "model2.add(ZeroPadding2D((1,1)))\n",
    "model2.add(Convolution2D(512, 3, 3, activation='relu'))\n",
    "model2.add(ZeroPadding2D((1,1)))\n",
    "model2.add(Convolution2D(512, 3, 3, activation='relu'))\n",
    "model2.add(ZeroPadding2D((1,1)))\n",
    "model2.add(Convolution2D(512, 3, 3, activation='relu'))\n",
    "model2.add(MaxPooling2D((2,2), strides=(2,2)))\n",
    "\n",
    "model2.add(ZeroPadding2D((1,1)))\n",
    "model2.add(Convolution2D(512, 3, 3, activation='relu'))\n",
    "model2.add(ZeroPadding2D((1,1)))\n",
    "model2.add(Convolution2D(512, 3, 3, activation='relu'))\n",
    "model2.add(ZeroPadding2D((1,1)))\n",
    "model2.add(Convolution2D(512, 3, 3, activation='relu'))\n",
    "model2.add(MaxPooling2D((2,2), strides=(2,2)))\n",
    "\n",
    "model2.add(Flatten())\n",
    "model2.add(Dense(20, activation='relu'))\n",
    "model2.add(Dropout(0.5))\n",
    "model2.add(Dense(20, activation='relu'))\n",
    "model2.add(Dropout(0.5))\n",
    "model2.add(Dense(12, activation='softmax'))"
   ]
  },
  {
   "cell_type": "code",
   "execution_count": 68,
   "metadata": {},
   "outputs": [],
   "source": [
    "sgd = SGD(lr=0.1, decay=1e-6, momentum=0.9, nesterov=True)\n",
    "model2.compile(optimizer=sgd, \n",
    "              loss='categorical_crossentropy', \n",
    "              metrics=['accuracy'])"
   ]
  },
  {
   "cell_type": "code",
   "execution_count": 69,
   "metadata": {},
   "outputs": [
    {
     "name": "stdout",
     "output_type": "stream",
     "text": [
      "Epoch 1/10\n",
      "6360/6360 [==============================] - 1565s 246ms/step - loss: 2.5080 - acc: 0.0802\n",
      "Epoch 2/10\n",
      "6360/6360 [==============================] - 1462s 230ms/step - loss: 2.5075 - acc: 0.0836\n",
      "Epoch 3/10\n",
      "6360/6360 [==============================] - 1462s 230ms/step - loss: 2.5057 - acc: 0.0838\n",
      "Epoch 4/10\n",
      "6360/6360 [==============================] - 1460s 230ms/step - loss: 2.5072 - acc: 0.0835\n",
      "Epoch 5/10\n",
      "6360/6360 [==============================] - 1461s 230ms/step - loss: 2.5060 - acc: 0.0849\n",
      "Epoch 6/10\n",
      "6360/6360 [==============================] - 1460s 230ms/step - loss: 2.5081 - acc: 0.0857\n",
      "Epoch 7/10\n",
      "6360/6360 [==============================] - 1460s 230ms/step - loss: 2.5065 - acc: 0.0800\n",
      "Epoch 8/10\n",
      "6360/6360 [==============================] - 1460s 230ms/step - loss: 2.5078 - acc: 0.0835\n",
      "Epoch 9/10\n",
      "6360/6360 [==============================] - 1459s 229ms/step - loss: 2.5063 - acc: 0.0814\n",
      "Epoch 10/10\n",
      "6360/6360 [==============================] - 1459s 229ms/step - loss: 2.5084 - acc: 0.0827\n"
     ]
    }
   ],
   "source": [
    "fitting2 = model2.fit(x_train, y_train, batch_size = 10, epochs = 10)"
   ]
  },
  {
   "cell_type": "code",
   "execution_count": 70,
   "metadata": {
    "scrolled": true
   },
   "outputs": [
    {
     "name": "stdout",
     "output_type": "stream",
     "text": [
      "1521/1521 [==============================] - 167s 110ms/step\n"
     ]
    }
   ],
   "source": [
    "score2=model2.evaluate(x_test,y_test)"
   ]
  },
  {
   "cell_type": "code",
   "execution_count": 71,
   "metadata": {
    "scrolled": true
   },
   "outputs": [
    {
     "name": "stdout",
     "output_type": "stream",
     "text": [
      "loss:  2.4966397330919277\n",
      "accuracy:  0.08744247206765363\n"
     ]
    }
   ],
   "source": [
    "print('loss: ',score2[0])\n",
    "print('accuracy: ',score2[1])"
   ]
  },
  {
   "cell_type": "code",
   "execution_count": 257,
   "metadata": {},
   "outputs": [],
   "source": [
    "save(\"/Users/wuyouxin/Documents/Python/Python_Junior/weight\",2)"
   ]
  },
  {
   "cell_type": "code",
   "execution_count": 73,
   "metadata": {},
   "outputs": [
    {
     "data": {
      "image/png": "[encoded data removed]",
      "text/plain": [
       "<Figure size 432x288 with 2 Axes>"
      ]
     },
     "metadata": {},
     "output_type": "display_data"
    }
   ],
   "source": [
    "graphic(fitting2,10)"
   ]
  },
  {
   "cell_type": "markdown",
   "metadata": {},
   "source": [
    "### Model 3"
   ]
  },
  {
   "cell_type": "code",
   "execution_count": 74,
   "metadata": {},
   "outputs": [],
   "source": [
    "model3 = Sequential()\n",
    "\n",
    "model3.add(Convolution2D(10,(5,5), padding='same',input_shape =(100, 100, 3)))\n",
    "model3.add(Activation(\"relu\"))\n",
    "model3.add(MaxPooling2D(pool_size=(2,2)))\n",
    "model3.add(Dropout(0.25))\n",
    "\n",
    "model3.add(Convolution2D(20,(5,5),padding='same'))\n",
    "model3.add(Activation(\"relu\"))\n",
    "model3.add(MaxPooling2D(pool_size=(2,2)))\n",
    "model3.add(Dropout(0.25))\n",
    "\n",
    "\n",
    "model3.add(Convolution2D(20,(5,5),padding='same'))\n",
    "model3.add(Activation(\"relu\"))\n",
    "model3.add(MaxPooling2D(pool_size=(2,2)))\n",
    "model3.add(Dropout(0.25))\n",
    "\n",
    "model3.add(Convolution2D(30,(5,5),padding='same'))\n",
    "model3.add(Activation(\"relu\"))\n",
    "model3.add(MaxPooling2D(pool_size=(2,2)))\n",
    "model3.add(Dropout(0.25))\n",
    "\n",
    "\n",
    "model3.add(Flatten())\n",
    "model3.add(Dense(30))\n",
    "model3.add(Activation(\"sigmoid\"))\n",
    "model3.add(Dense(12))\n",
    "model3.add(Dropout(0.25))\n",
    "model3.add(Activation('softmax'))"
   ]
  },
  {
   "cell_type": "code",
   "execution_count": 75,
   "metadata": {},
   "outputs": [],
   "source": [
    "model3.compile(loss=\"categorical_crossentropy\",\n",
    "              optimizer='Adam',\n",
    "              metrics=['accuracy'])"
   ]
  },
  {
   "cell_type": "code",
   "execution_count": 76,
   "metadata": {
    "scrolled": false
   },
   "outputs": [
    {
     "name": "stdout",
     "output_type": "stream",
     "text": [
      "Epoch 1/10\n",
      "6360/6360 [==============================] - 110s 17ms/step - loss: 2.5005 - acc: 0.0763\n",
      "Epoch 2/10\n",
      "6360/6360 [==============================] - 109s 17ms/step - loss: 2.4898 - acc: 0.0877\n",
      "Epoch 3/10\n",
      "6360/6360 [==============================] - 109s 17ms/step - loss: 2.4901 - acc: 0.0862\n",
      "Epoch 4/10\n",
      "6360/6360 [==============================] - 109s 17ms/step - loss: 2.4905 - acc: 0.0811\n",
      "Epoch 5/10\n",
      "6360/6360 [==============================] - 109s 17ms/step - loss: 2.4900 - acc: 0.0763\n",
      "Epoch 6/10\n",
      "6360/6360 [==============================] - 109s 17ms/step - loss: 2.4901 - acc: 0.0874\n",
      "Epoch 7/10\n",
      "6360/6360 [==============================] - 109s 17ms/step - loss: 2.4903 - acc: 0.0838\n",
      "Epoch 8/10\n",
      "6360/6360 [==============================] - 109s 17ms/step - loss: 2.4895 - acc: 0.0877\n",
      "Epoch 9/10\n",
      "6360/6360 [==============================] - 109s 17ms/step - loss: 2.4875 - acc: 0.0855\n",
      "Epoch 10/10\n",
      "6360/6360 [==============================] - 109s 17ms/step - loss: 2.4862 - acc: 0.0898\n"
     ]
    }
   ],
   "source": [
    "fitting3 = model3.fit(x_train, y_train, batch_size = 10, epochs = 10)"
   ]
  },
  {
   "cell_type": "code",
   "execution_count": 77,
   "metadata": {
    "scrolled": true
   },
   "outputs": [
    {
     "name": "stdout",
     "output_type": "stream",
     "text": [
      "1521/1521 [==============================] - 12s 8ms/step\n"
     ]
    }
   ],
   "source": [
    "score3=model3.evaluate(x_test,y_test)"
   ]
  },
  {
   "cell_type": "code",
   "execution_count": 78,
   "metadata": {
    "scrolled": true
   },
   "outputs": [
    {
     "name": "stdout",
     "output_type": "stream",
     "text": [
      "loss:  2.4853495469930373\n",
      "accuracy:  0.08941485865542483\n"
     ]
    }
   ],
   "source": [
    "print('loss: ',score3[0])\n",
    "print('accuracy: ',score3[1])"
   ]
  },
  {
   "cell_type": "code",
   "execution_count": 258,
   "metadata": {},
   "outputs": [],
   "source": [
    "save(\"/Users/wuyouxin/Documents/Python/Python_Junior/weight\",3)"
   ]
  },
  {
   "cell_type": "code",
   "execution_count": 268,
   "metadata": {},
   "outputs": [
    {
     "data": {
      "image/png": "[encoded data removed]",
      "text/plain": [
       "<Figure size 432x288 with 2 Axes>"
      ]
     },
     "metadata": {},
     "output_type": "display_data"
    }
   ],
   "source": [
    "graphic(fitting3,10)"
   ]
  },
  {
   "cell_type": "markdown",
   "metadata": {},
   "source": [
    "### Model 4"
   ]
  },
  {
   "cell_type": "code",
   "execution_count": 81,
   "metadata": {},
   "outputs": [
    {
     "name": "stderr",
     "output_type": "stream",
     "text": [
      "/Users/wuyouxin/anaconda3/lib/python3.6/site-packages/ipykernel_launcher.py:3: UserWarning: Update your `Conv2D` call to the Keras 2 API: `Conv2D(64, (3, 3), activation=\"relu\")`\n",
      "  This is separate from the ipykernel package so we can avoid doing imports until\n",
      "/Users/wuyouxin/anaconda3/lib/python3.6/site-packages/ipykernel_launcher.py:5: UserWarning: Update your `Conv2D` call to the Keras 2 API: `Conv2D(64, (3, 3), activation=\"relu\")`\n",
      "  \"\"\"\n",
      "/Users/wuyouxin/anaconda3/lib/python3.6/site-packages/ipykernel_launcher.py:10: UserWarning: Update your `Conv2D` call to the Keras 2 API: `Conv2D(128, (3, 3), activation=\"relu\")`\n",
      "  # Remove the CWD from sys.path while we load stuff.\n",
      "/Users/wuyouxin/anaconda3/lib/python3.6/site-packages/ipykernel_launcher.py:12: UserWarning: Update your `Conv2D` call to the Keras 2 API: `Conv2D(128, (3, 3), activation=\"relu\")`\n",
      "  if sys.path[0] == '':\n",
      "/Users/wuyouxin/anaconda3/lib/python3.6/site-packages/ipykernel_launcher.py:17: UserWarning: Update your `Conv2D` call to the Keras 2 API: `Conv2D(256, (3, 3), activation=\"relu\")`\n",
      "/Users/wuyouxin/anaconda3/lib/python3.6/site-packages/ipykernel_launcher.py:19: UserWarning: Update your `Conv2D` call to the Keras 2 API: `Conv2D(256, (3, 3), activation=\"relu\")`\n",
      "/Users/wuyouxin/anaconda3/lib/python3.6/site-packages/ipykernel_launcher.py:21: UserWarning: Update your `Conv2D` call to the Keras 2 API: `Conv2D(256, (3, 3), activation=\"relu\")`\n",
      "/Users/wuyouxin/anaconda3/lib/python3.6/site-packages/ipykernel_launcher.py:26: UserWarning: Update your `Conv2D` call to the Keras 2 API: `Conv2D(512, (3, 3), activation=\"relu\")`\n",
      "/Users/wuyouxin/anaconda3/lib/python3.6/site-packages/ipykernel_launcher.py:28: UserWarning: Update your `Conv2D` call to the Keras 2 API: `Conv2D(512, (3, 3), activation=\"relu\")`\n",
      "/Users/wuyouxin/anaconda3/lib/python3.6/site-packages/ipykernel_launcher.py:30: UserWarning: Update your `Conv2D` call to the Keras 2 API: `Conv2D(512, (3, 3), activation=\"relu\")`\n",
      "/Users/wuyouxin/anaconda3/lib/python3.6/site-packages/ipykernel_launcher.py:35: UserWarning: Update your `Conv2D` call to the Keras 2 API: `Conv2D(512, (3, 3), activation=\"relu\")`\n",
      "/Users/wuyouxin/anaconda3/lib/python3.6/site-packages/ipykernel_launcher.py:37: UserWarning: Update your `Conv2D` call to the Keras 2 API: `Conv2D(512, (3, 3), activation=\"relu\")`\n",
      "/Users/wuyouxin/anaconda3/lib/python3.6/site-packages/ipykernel_launcher.py:39: UserWarning: Update your `Conv2D` call to the Keras 2 API: `Conv2D(512, (3, 3), activation=\"relu\")`\n"
     ]
    }
   ],
   "source": [
    "model4 = Sequential()\n",
    "model4.add(ZeroPadding2D((1,1),input_shape=(100, 100, 3)))\n",
    "model4.add(Convolution2D(64, 3, 3, activation='relu'))\n",
    "model4.add(ZeroPadding2D((1,1)))\n",
    "model4.add(Convolution2D(64, 3, 3, activation='relu'))\n",
    "model4.add(MaxPooling2D((2,2), strides=(2,2)))\n",
    "model4.add(Dropout(0.5))\n",
    "\n",
    "model4.add(ZeroPadding2D((1,1)))\n",
    "model4.add(Convolution2D(128, 3, 3, activation='relu'))\n",
    "model4.add(ZeroPadding2D((1,1)))\n",
    "model4.add(Convolution2D(128, 3, 3, activation='relu'))\n",
    "model4.add(MaxPooling2D((2,2), strides=(2,2)))\n",
    "model4.add(Dropout(0.5))\n",
    "\n",
    "model4.add(ZeroPadding2D((1,1)))\n",
    "model4.add(Convolution2D(256, 3, 3, activation='relu'))\n",
    "model4.add(ZeroPadding2D((1,1)))\n",
    "model4.add(Convolution2D(256, 3, 3, activation='relu'))\n",
    "model4.add(ZeroPadding2D((1,1)))\n",
    "model4.add(Convolution2D(256, 3, 3, activation='relu'))\n",
    "model4.add(MaxPooling2D((2,2), strides=(2,2)))\n",
    "model4.add(Dropout(0.5))\n",
    "\n",
    "model4.add(ZeroPadding2D((1,1)))\n",
    "model4.add(Convolution2D(512, 3, 3, activation='relu'))\n",
    "model4.add(ZeroPadding2D((1,1)))\n",
    "model4.add(Convolution2D(512, 3, 3, activation='relu'))\n",
    "model4.add(ZeroPadding2D((1,1)))\n",
    "model4.add(Convolution2D(512, 3, 3, activation='relu'))\n",
    "model4.add(MaxPooling2D((2,2), strides=(2,2)))\n",
    "model4.add(Dropout(0.5))\n",
    "\n",
    "model4.add(ZeroPadding2D((1,1)))\n",
    "model4.add(Convolution2D(512, 3, 3, activation='relu'))\n",
    "model4.add(ZeroPadding2D((1,1)))\n",
    "model4.add(Convolution2D(512, 3, 3, activation='relu'))\n",
    "model4.add(ZeroPadding2D((1,1)))\n",
    "model4.add(Convolution2D(512, 3, 3, activation='relu'))\n",
    "model4.add(MaxPooling2D((2,2), strides=(2,2)))\n",
    "model4.add(Dropout(0.5))\n",
    "\n",
    "model4.add(Flatten())\n",
    "model4.add(Dense(20, activation='relu'))\n",
    "model4.add(Dropout(0.5))\n",
    "model4.add(Dense(20, activation='relu'))\n",
    "model4.add(Dropout(0.5))\n",
    "model4.add(Dense(12, activation='softmax'))"
   ]
  },
  {
   "cell_type": "code",
   "execution_count": 82,
   "metadata": {},
   "outputs": [],
   "source": [
    "sgd = SGD(lr=0.1, decay=1e-6, momentum=0.9, nesterov=True)\n",
    "model4.compile(optimizer=sgd, \n",
    "              loss='categorical_crossentropy', \n",
    "              metrics=['accuracy'])"
   ]
  },
  {
   "cell_type": "code",
   "execution_count": 83,
   "metadata": {},
   "outputs": [
    {
     "name": "stdout",
     "output_type": "stream",
     "text": [
      "Epoch 1/10\n",
      "6360/6360 [==============================] - 1522s 239ms/step - loss: 2.5069 - acc: 0.0825\n",
      "Epoch 2/10\n",
      "6360/6360 [==============================] - 1519s 239ms/step - loss: 2.5098 - acc: 0.0761\n",
      "Epoch 3/10\n",
      "6360/6360 [==============================] - 1518s 239ms/step - loss: 2.5100 - acc: 0.0838\n",
      "Epoch 4/10\n",
      "6360/6360 [==============================] - 1519s 239ms/step - loss: 2.5067 - acc: 0.0887\n",
      "Epoch 5/10\n",
      "6360/6360 [==============================] - 1520s 239ms/step - loss: 2.5087 - acc: 0.0767\n",
      "Epoch 6/10\n",
      "6360/6360 [==============================] - 1521s 239ms/step - loss: 2.5066 - acc: 0.0903\n",
      "Epoch 7/10\n",
      "6360/6360 [==============================] - 1524s 240ms/step - loss: 2.5093 - acc: 0.0752\n",
      "Epoch 8/10\n",
      "6360/6360 [==============================] - 1523s 240ms/step - loss: 2.5070 - acc: 0.0871\n",
      "Epoch 9/10\n",
      "6360/6360 [==============================] - 1525s 240ms/step - loss: 2.5066 - acc: 0.0764\n",
      "Epoch 10/10\n",
      "6360/6360 [==============================] - 1527s 240ms/step - loss: 2.5092 - acc: 0.0844\n"
     ]
    }
   ],
   "source": [
    "fitting4 = model4.fit(x_train, y_train, batch_size = 10, epochs = 10)"
   ]
  },
  {
   "cell_type": "code",
   "execution_count": 84,
   "metadata": {
    "scrolled": true
   },
   "outputs": [
    {
     "name": "stdout",
     "output_type": "stream",
     "text": [
      "1521/1521 [==============================] - 168s 110ms/step\n"
     ]
    }
   ],
   "source": [
    "score4=model4.evaluate(x_test,y_test)"
   ]
  },
  {
   "cell_type": "code",
   "execution_count": 85,
   "metadata": {
    "scrolled": true
   },
   "outputs": [
    {
     "name": "stdout",
     "output_type": "stream",
     "text": [
      "loss:  2.4963003393069134\n",
      "accuracy:  0.08021038790759406\n"
     ]
    }
   ],
   "source": [
    "print('loss: ',score4[0])\n",
    "print('accuracy: ',score4[1])"
   ]
  },
  {
   "cell_type": "code",
   "execution_count": 259,
   "metadata": {},
   "outputs": [],
   "source": [
    "save(\"/Users/wuyouxin/Documents/Python/Python_Junior/weight\",4)"
   ]
  },
  {
   "cell_type": "code",
   "execution_count": 269,
   "metadata": {},
   "outputs": [
    {
     "data": {
      "image/png": "[encoded data removed]",
      "text/plain": [
       "<Figure size 432x288 with 2 Axes>"
      ]
     },
     "metadata": {},
     "output_type": "display_data"
    }
   ],
   "source": [
    "graphic(fitting4,10)"
   ]
  },
  {
   "cell_type": "code",
   "execution_count": null,
   "metadata": {},
   "outputs": [],
   "source": []
  },
  {
   "cell_type": "markdown",
   "metadata": {},
   "source": [
    "# 預測結果"
   ]
  },
  {
   "cell_type": "code",
   "execution_count": 191,
   "metadata": {},
   "outputs": [],
   "source": [
    "#parameter is figure path \n",
    "def pridect(path,model_num):\n",
    "    models = [model1, model2, model3, model4]\n",
    "    fig = cv2.imread(path)\n",
    "    refig = np.array([cv2.resize(fig, (100,100))]) #input has to be 100x100\n",
    "    results = models[model_num-1].predict(refig)[0] #get value from 1x1 matrics\n",
    "    \n",
    "    max_val_index = np.where(results==results.max())[0][0] # find the index of max value\n",
    "    \n",
    "    cele_photo = os.path.join(os.path.join(os.path.dirname(os.path.dirname(path)), \"train\", test_label[max_val_index]), os.listdir(os.path.join(os.path.dirname(os.path.dirname(path)), \"train\", test_label[max_val_index]))[0])\n",
    "    plt.subplot(1,2,1)\n",
    "    plt.imshow(Image.open(cele_photo))\n",
    "    plt.title(\"output\")\n",
    "    \n",
    "    \n",
    "    \n",
    "    plt.subplot(1,2,2)\n",
    "    plt.imshow(cv2.cvtColor(cv2.resize(cv2.imread(path), (100,100)), cv2.COLOR_BGR2RGB))\n",
    "    plt.title(\"input\")\n",
    "    plt.tight_layout() #防止重疊\n",
    "    \n",
    "    print(\"跟你最像的明星是：\",test_label[max_val_index])\n",
    "    print(results[max_val_index])\n",
    "    print(\" \")\n",
    "    \n",
    "#    for i in np.arange(len(results)): # 列印所有機率\n",
    "#        print(test_label[i])\n",
    "#        print(results[i])\n",
    "#        print(\" \")"
   ]
  },
  {
   "cell_type": "code",
   "execution_count": 192,
   "metadata": {},
   "outputs": [
    {
     "data": {
      "application/vnd.jupyter.widget-view+json": {
       "model_id": "8cef86531ffb4ea097bb1310700efda8",
       "version_major": 2,
       "version_minor": 0
      },
      "text/plain": [
       "interactive(children=(Text(value='./data/celebritys/predict/IMG_5010.JPG', description='path'), Dropdown(descr…"
      ]
     },
     "metadata": {},
     "output_type": "display_data"
    },
    {
     "data": {
      "text/plain": [
       "<function __main__.pridect(path, model_num)>"
      ]
     },
     "execution_count": 192,
     "metadata": {},
     "output_type": "execute_result"
    }
   ],
   "source": [
    "interact(pridect,\n",
    "        path = \"./data/celebritys/predict/IMG_5010.JPG\",\n",
    "        model_num = [1,2,3,4])"
   ]
  },
  {
   "cell_type": "code",
   "execution_count": 227,
   "metadata": {},
   "outputs": [],
   "source": []
  },
  {
   "cell_type": "code",
   "execution_count": 228,
   "metadata": {},
   "outputs": [],
   "source": []
  },
  {
   "cell_type": "code",
   "execution_count": null,
   "metadata": {},
   "outputs": [],
   "source": []
  }
 ],
 "metadata": {
  "kernelspec": {
   "display_name": "Python 3",
   "language": "python",
   "name": "python3"
  },
  "language_info": {
   "codemirror_mode": {
    "name": "ipython",
    "version": 3
   },
   "file_extension": ".py",
   "mimetype": "text/x-python",
   "name": "python",
   "nbconvert_exporter": "python",
   "pygments_lexer": "ipython3",
   "version": "3.6.5"
  }
 },
 "nbformat": 4,
 "nbformat_minor": 2
}
