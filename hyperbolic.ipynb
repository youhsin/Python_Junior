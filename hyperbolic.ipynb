{
 "cells": [
  {
   "cell_type": "code",
   "execution_count": 1,
   "metadata": {},
   "outputs": [],
   "source": [
    "%matplotlib inline\n",
    "\n",
    "import numpy as np\n",
    "import matplotlib.pyplot as plt\n"
   ]
  },
  {
   "cell_type": "code",
   "execution_count": 2,
   "metadata": {},
   "outputs": [
    {
     "data": {
      "text/plain": [
       "[<matplotlib.lines.Line2D at 0x168bf6636a0>]"
      ]
     },
     "execution_count": 2,
     "metadata": {},
     "output_type": "execute_result"
    },
    {
     "data": {
      "image/png": "[encoded data removed]",
      "text/plain": [
       "<Figure size 432x288 with 1 Axes>"
      ]
     },
     "metadata": {},
     "output_type": "display_data"
    }
   ],
   "source": [
    "n=10\n",
    "\n",
    "x=np.linspace(-8,8,1000)\n",
    "y=0.00025*x**2\n",
    "\n",
    "plt.scatter(x,y)\n",
    "plt.plot([-1,1],[1000,1000])"
   ]
  },
  {
   "cell_type": "markdown",
   "metadata": {},
   "source": [
    "# 數字\n",
    "整數\n",
    "浮點數\n",
    "無條件捨去\n",
    "四捨五入"
   ]
  },
  {
   "cell_type": "code",
   "execution_count": 3,
   "metadata": {},
   "outputs": [
    {
     "name": "stdout",
     "output_type": "stream",
     "text": [
      "100\n",
      "100.0\n",
      "123.56\n",
      "123\n",
      "124\n"
     ]
    }
   ],
   "source": [
    "a=100\n",
    "print(a)\n",
    "b=float(a)\n",
    "print(b)\n",
    "c=123.56\n",
    "print(c)\n",
    "d=int(c)\n",
    "print(d)\n",
    "e=round(c)\n",
    "print(e)"
   ]
  },
  {
   "cell_type": "code",
   "execution_count": 4,
   "metadata": {},
   "outputs": [
    {
     "data": {
      "text/plain": [
       "<matplotlib.collections.PathCollection at 0x168bfa1f470>"
      ]
     },
     "execution_count": 4,
     "metadata": {},
     "output_type": "execute_result"
    },
    {
     "data": {
      "image/png": "[encoded data removed]",
      "text/plain": [
       "<Figure size 432x288 with 1 Axes>"
      ]
     },
     "metadata": {},
     "output_type": "display_data"
    }
   ],
   "source": [
    "y=np.linspace(1,100,100)\n",
    "x=[100]*100\n",
    "plt.scatter(50,50)\n",
    "plt.scatter(x,y)\n"
   ]
  },
  {
   "cell_type": "code",
   "execution_count": 5,
   "metadata": {},
   "outputs": [
    {
     "data": {
      "text/plain": [
       "50.0"
      ]
     },
     "execution_count": 5,
     "metadata": {},
     "output_type": "execute_result"
    }
   ],
   "source": [
    "i=np.linspace(1,100,100)\n",
    "a=(((i-50)**2+(100-50)**2)**0.5)\n",
    "list=a.tolist()\n",
    "min(list)"
   ]
  },
  {
   "cell_type": "code",
   "execution_count": 6,
   "metadata": {},
   "outputs": [],
   "source": [
    "x1=100\n",
    "y1=np.linspace(1,100,100)\n",
    "\n",
    "x0=50\n",
    "y0=50"
   ]
  },
  {
   "cell_type": "code",
   "execution_count": 7,
   "metadata": {},
   "outputs": [
    {
     "name": "stdout",
     "output_type": "stream",
     "text": [
      "[70.00714249 69.3108938  68.62215386 67.94115101 67.26812024 66.60330322\n",
      " 65.94694838 65.29931087 64.66065264 64.03124237 63.41135545 62.80127387\n",
      " 62.20128616 61.6116872  61.03277808 60.46486583 59.9082632  59.36328832\n",
      " 58.83026432 58.30951895 57.80138407 57.30619513 56.82429058 56.35601121\n",
      " 55.90169944 55.4616985  55.03635162 54.62600113 54.23098745 53.85164807\n",
      " 53.48831648 53.14132102 52.81098371 52.49761899 52.20153254 51.92301994\n",
      " 51.66236541 51.41984053 51.19570294 50.99019514 50.80354318 50.6359556\n",
      " 50.48762225 50.35871325 50.24937811 50.15974482 50.08991915 50.03998401\n",
      " 50.009999   50.         50.009999   50.03998401 50.08991915 50.15974482\n",
      " 50.24937811 50.35871325 50.48762225 50.6359556  50.80354318 50.99019514\n",
      " 51.19570294 51.41984053 51.66236541 51.92301994 52.20153254 52.49761899\n",
      " 52.81098371 53.14132102 53.48831648 53.85164807 54.23098745 54.62600113\n",
      " 55.03635162 55.4616985  55.90169944 56.35601121 56.82429058 57.30619513\n",
      " 57.80138407 58.30951895 58.83026432 59.36328832 59.9082632  60.46486583\n",
      " 61.03277808 61.6116872  62.20128616 62.80127387 63.41135545 64.03124237\n",
      " 64.66065264 65.29931087 65.94694838 66.60330322 67.26812024 67.94115101\n",
      " 68.62215386 69.3108938  70.00714249 70.71067812]\n"
     ]
    }
   ],
   "source": [
    "for i in range(1,100):\n",
    "    \n",
    "    a[i-1]=(((i-50)**2+(100-50)**2)**0.5)\n",
    "print(a)\n",
    "    "
   ]
  },
  {
   "cell_type": "code",
   "execution_count": 8,
   "metadata": {},
   "outputs": [],
   "source": [
    "def loss_function(x0,y0,x1,y1):\n",
    "    return ((x1-x0)**2+(y1-y0)**2)**0.5\n"
   ]
  },
  {
   "cell_type": "code",
   "execution_count": 9,
   "metadata": {},
   "outputs": [
    {
     "data": {
      "text/plain": [
       "70.71067811865476"
      ]
     },
     "execution_count": 9,
     "metadata": {},
     "output_type": "execute_result"
    }
   ],
   "source": [
    "array=np.linspace(1,100,100)\n",
    "y1=array.tolist()\n",
    "loss_function(50,50,100,100)"
   ]
  },
  {
   "cell_type": "code",
   "execution_count": 10,
   "metadata": {},
   "outputs": [
    {
     "name": "stdout",
     "output_type": "stream",
     "text": [
      "50\n"
     ]
    }
   ],
   "source": [
    "print(50)"
   ]
  },
  {
   "cell_type": "code",
   "execution_count": 13,
   "metadata": {},
   "outputs": [
    {
     "ename": "SyntaxError",
     "evalue": "invalid syntax (<ipython-input-13-d6000ee1b088>, line 3)",
     "output_type": "error",
     "traceback": [
      "\u001b[1;36m  File \u001b[1;32m\"<ipython-input-13-d6000ee1b088>\"\u001b[1;36m, line \u001b[1;32m3\u001b[0m\n\u001b[1;33m    if ((8-x)**2+(0.016-y)**2)**0.5*)*np.cos(arctan((0.016-y)/(8-x))/np.cos(2*arctan((0.016-y)/(8-x))<2:\u001b[0m\n\u001b[1;37m                                    ^\u001b[0m\n\u001b[1;31mSyntaxError\u001b[0m\u001b[1;31m:\u001b[0m invalid syntax\n"
     ]
    }
   ],
   "source": [
    "for x in range(1,100,1):\n",
    "    y=0.00025*x**2\n",
    "    if ((8-x)**2+(0.016-y)**2)**0.5*)*np.cos(arctan((0.016-y)/(8-x))/np.cos(2*arctan((0.016-y)/(8-x))<2:\n",
    "                                                                            print(((8-x)**2+(0.016-y)**2)**0.5*)*np.cos(arctan((0.016-y)/(8-x))/np.cos(2*arctan((0.016-y)/(8-x)))\n",
    "                                                                            "
   ]
  },
  {
   "cell_type": "code",
   "execution_count": null,
   "metadata": {},
   "outputs": [],
   "source": []
  }
 ],
 "metadata": {
  "kernelspec": {
   "display_name": "Python 3",
   "language": "python",
   "name": "python3"
  },
  "language_info": {
   "codemirror_mode": {
    "name": "ipython",
    "version": 3
   },
   "file_extension": ".py",
   "mimetype": "text/x-python",
   "name": "python",
   "nbconvert_exporter": "python",
   "pygments_lexer": "ipython3",
   "version": "3.6.5"
  }
 },
 "nbformat": 4,
 "nbformat_minor": 2
}
