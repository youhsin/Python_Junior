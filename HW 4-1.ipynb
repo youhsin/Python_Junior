{
 "cells": [
  {
   "cell_type": "code",
   "execution_count": 2,
   "metadata": {},
   "outputs": [],
   "source": [
    "%matplotlib inline\n",
    "import numpy as np\n",
    "import matplotlib.pyplot as plt\n",
    "import pandas as pd\n",
    "import matplotlib as mpl\n",
    "import locale"
   ]
  },
  {
   "cell_type": "code",
   "execution_count": 3,
   "metadata": {},
   "outputs": [
    {
     "data": {
      "text/plain": [
       "'zh_TW.UTF-8'"
      ]
     },
     "execution_count": 3,
     "metadata": {},
     "output_type": "execute_result"
    }
   ],
   "source": [
    "mpl.rc('font', family='Noto Sans CJK TC')\n",
    "locale.setlocale(locale.LC_NUMERIC,\"\")"
   ]
  },
  {
   "cell_type": "code",
   "execution_count": 6,
   "metadata": {},
   "outputs": [
    {
     "data": {
      "text/html": [
       "<div>\n",
       "<style scoped>\n",
       "    .dataframe tbody tr th:only-of-type {\n",
       "        vertical-align: middle;\n",
       "    }\n",
       "\n",
       "    .dataframe tbody tr th {\n",
       "        vertical-align: top;\n",
       "    }\n",
       "\n",
       "    .dataframe thead th {\n",
       "        text-align: right;\n",
       "    }\n",
       "</style>\n",
       "<table border=\"1\" class=\"dataframe\">\n",
       "  <thead>\n",
       "    <tr style=\"text-align: right;\">\n",
       "      <th></th>\n",
       "      <th>&lt;html&gt;</th>\n",
       "    </tr>\n",
       "  </thead>\n",
       "  <tbody>\n",
       "    <tr>\n",
       "      <th>0</th>\n",
       "      <td>&lt;body&gt;&lt;h1&gt;尚未做過品質檢測&lt;/h1&gt;</td>\n",
       "    </tr>\n",
       "    <tr>\n",
       "      <th>1</th>\n",
       "      <td>&lt;/body&gt;</td>\n",
       "    </tr>\n",
       "    <tr>\n",
       "      <th>2</th>\n",
       "      <td>&lt;/html&gt;</td>\n",
       "    </tr>\n",
       "  </tbody>\n",
       "</table>\n",
       "</div>"
      ],
      "text/plain": [
       "                          <html>\n",
       "0        <body><h1>尚未做過品質檢測</h1>\n",
       "1                        </body>\n",
       "2                        </html>"
      ]
     },
     "execution_count": 6,
     "metadata": {},
     "output_type": "execute_result"
    }
   ],
   "source": [
    "df_ele=pd.read_csv('https://quality.data.gov.tw/dq_download_csv.php?nid=29938&md5_url=5708b4f28241467c91d097a4743d4970')\n"
   ]
  },
  {
   "cell_type": "code",
   "execution_count": 5,
   "metadata": {},
   "outputs": [
    {
     "ename": "AttributeError",
     "evalue": "'DataFrame' object has no attribute '年度'",
     "output_type": "error",
     "traceback": [
      "\u001b[0;31m---------------------------------------------------------------------------\u001b[0m",
      "\u001b[0;31mAttributeError\u001b[0m                            Traceback (most recent call last)",
      "\u001b[0;32m<ipython-input-5-7ba2a84f31ef>\u001b[0m in \u001b[0;36m<module>\u001b[0;34m()\u001b[0m\n\u001b[0;32m----> 1\u001b[0;31m \u001b[0mjan\u001b[0m\u001b[0;34m=\u001b[0m\u001b[0mdf_ele\u001b[0m\u001b[0;34m[\u001b[0m\u001b[0;34m(\u001b[0m\u001b[0mdf_ele\u001b[0m\u001b[0;34m.\u001b[0m\u001b[0m年度\u001b[0m\u001b[0;34m==\u001b[0m\u001b[0;36m2017\u001b[0m\u001b[0;34m)\u001b[0m\u001b[0;34m&\u001b[0m\u001b[0;34m(\u001b[0m\u001b[0mdf_ele\u001b[0m\u001b[0;34m.\u001b[0m\u001b[0m月份\u001b[0m\u001b[0;34m==\u001b[0m\u001b[0;36m1\u001b[0m\u001b[0;34m)\u001b[0m\u001b[0;34m]\u001b[0m\u001b[0;34m\u001b[0m\u001b[0m\n\u001b[0m\u001b[1;32m      2\u001b[0m \u001b[0me1\u001b[0m\u001b[0;34m=\u001b[0m\u001b[0mjan\u001b[0m\u001b[0;34m[\u001b[0m\u001b[0;34m\"發電量(度)\"\u001b[0m\u001b[0;34m]\u001b[0m\u001b[0;34m.\u001b[0m\u001b[0mapply\u001b[0m\u001b[0;34m(\u001b[0m\u001b[0mlocale\u001b[0m\u001b[0;34m.\u001b[0m\u001b[0matof\u001b[0m\u001b[0;34m)\u001b[0m\u001b[0;34m\u001b[0m\u001b[0m\n\u001b[1;32m      3\u001b[0m \u001b[0me1_a\u001b[0m\u001b[0;34m=\u001b[0m\u001b[0mnp\u001b[0m\u001b[0;34m.\u001b[0m\u001b[0marray\u001b[0m\u001b[0;34m(\u001b[0m\u001b[0me1\u001b[0m\u001b[0;34m.\u001b[0m\u001b[0mtolist\u001b[0m\u001b[0;34m(\u001b[0m\u001b[0;34m)\u001b[0m\u001b[0;34m)\u001b[0m\u001b[0;34m\u001b[0m\u001b[0m\n\u001b[1;32m      4\u001b[0m \u001b[0;34m\u001b[0m\u001b[0m\n\u001b[1;32m      5\u001b[0m \u001b[0mfeb\u001b[0m\u001b[0;34m=\u001b[0m\u001b[0mdf_ele\u001b[0m\u001b[0;34m[\u001b[0m\u001b[0;34m(\u001b[0m\u001b[0mdf_ele\u001b[0m\u001b[0;34m.\u001b[0m\u001b[0m年度\u001b[0m\u001b[0;34m==\u001b[0m\u001b[0;36m2017\u001b[0m\u001b[0;34m)\u001b[0m\u001b[0;34m&\u001b[0m\u001b[0;34m(\u001b[0m\u001b[0mdf_ele\u001b[0m\u001b[0;34m.\u001b[0m\u001b[0m月份\u001b[0m\u001b[0;34m==\u001b[0m\u001b[0;36m2\u001b[0m\u001b[0;34m)\u001b[0m\u001b[0;34m]\u001b[0m\u001b[0;34m\u001b[0m\u001b[0m\n",
      "\u001b[0;32m~/anaconda3/lib/python3.6/site-packages/pandas/core/generic.py\u001b[0m in \u001b[0;36m__getattr__\u001b[0;34m(self, name)\u001b[0m\n\u001b[1;32m   4370\u001b[0m             \u001b[0;32mif\u001b[0m \u001b[0mself\u001b[0m\u001b[0;34m.\u001b[0m\u001b[0m_info_axis\u001b[0m\u001b[0;34m.\u001b[0m\u001b[0m_can_hold_identifiers_and_holds_name\u001b[0m\u001b[0;34m(\u001b[0m\u001b[0mname\u001b[0m\u001b[0;34m)\u001b[0m\u001b[0;34m:\u001b[0m\u001b[0;34m\u001b[0m\u001b[0m\n\u001b[1;32m   4371\u001b[0m                 \u001b[0;32mreturn\u001b[0m \u001b[0mself\u001b[0m\u001b[0;34m[\u001b[0m\u001b[0mname\u001b[0m\u001b[0;34m]\u001b[0m\u001b[0;34m\u001b[0m\u001b[0m\n\u001b[0;32m-> 4372\u001b[0;31m             \u001b[0;32mreturn\u001b[0m \u001b[0mobject\u001b[0m\u001b[0;34m.\u001b[0m\u001b[0m__getattribute__\u001b[0m\u001b[0;34m(\u001b[0m\u001b[0mself\u001b[0m\u001b[0;34m,\u001b[0m \u001b[0mname\u001b[0m\u001b[0;34m)\u001b[0m\u001b[0;34m\u001b[0m\u001b[0m\n\u001b[0m\u001b[1;32m   4373\u001b[0m \u001b[0;34m\u001b[0m\u001b[0m\n\u001b[1;32m   4374\u001b[0m     \u001b[0;32mdef\u001b[0m \u001b[0m__setattr__\u001b[0m\u001b[0;34m(\u001b[0m\u001b[0mself\u001b[0m\u001b[0;34m,\u001b[0m \u001b[0mname\u001b[0m\u001b[0;34m,\u001b[0m \u001b[0mvalue\u001b[0m\u001b[0;34m)\u001b[0m\u001b[0;34m:\u001b[0m\u001b[0;34m\u001b[0m\u001b[0m\n",
      "\u001b[0;31mAttributeError\u001b[0m: 'DataFrame' object has no attribute '年度'"
     ]
    }
   ],
   "source": [
    "jan=df_ele[(df_ele.年度==2017)&(df_ele.月份==1)]\n",
    "e1=jan[\"發電量(度)\"].apply(locale.atof)\n",
    "e1_a=np.array(e1.tolist())\n",
    "\n",
    "feb=df_ele[(df_ele.年度==2017)&(df_ele.月份==2)]\n",
    "e2=feb[\"發電量(度)\"].apply(locale.atof)\n",
    "e2_a=np.array(e2.tolist())\n",
    "\n",
    "mar=df_ele[(df_ele.年度==2017)&(df_ele.月份==3)]\n",
    "e3=mar[\"發電量(度)\"].apply(locale.atof)\n",
    "e3_a=np.array(e3.tolist())\n",
    "\n",
    "apr=df_ele[(df_ele.年度==2017)&(df_ele.月份==4)]\n",
    "e4=apr[\"發電量(度)\"].apply(locale.atof)\n",
    "e4_a=np.array(e4.tolist())\n",
    "\n",
    "may=df_ele[(df_ele.年度==2017)&(df_ele.月份==5)]\n",
    "e5=may[\"發電量(度)\"].apply(locale.atof)\n",
    "e5_a=np.array(e5.tolist())\n",
    "\n",
    "jun=df_ele[(df_ele.年度==2017)&(df_ele.月份==6)]\n",
    "e6=jun[\"發電量(度)\"].apply(locale.atof)\n",
    "e6_a=np.array(e6.tolist())\n",
    "\n",
    "jul=df_ele[(df_ele.年度==2017)&(df_ele.月份==7)]\n",
    "e7=jul[\"發電量(度)\"].apply(locale.atof)\n",
    "e7_a=np.array(e7.tolist())\n",
    "\n",
    "aug=df_ele[(df_ele.年度==2017)&(df_ele.月份==8)]\n",
    "e8=aug[\"發電量(度)\"].apply(locale.atof)\n",
    "e8_a=np.array(e8.tolist())\n",
    "\n",
    "sep=df_ele[(df_ele.年度==2017)&(df_ele.月份==9)]\n",
    "e9=sep[\"發電量(度)\"].apply(locale.atof)\n",
    "e9_a=np.array(e9.tolist())\n",
    "\n",
    "octo=df_ele[(df_ele.年度==2017)&(df_ele.月份==10)]\n",
    "e10=octo[\"發電量(度)\"].apply(locale.atof)\n",
    "e10_a=np.array(e10.tolist())\n",
    "\n",
    "nov=df_ele[(df_ele.年度==2017)&(df_ele.月份==11)]\n",
    "e11=nov[\"發電量(度)\"].apply(locale.atof)\n",
    "e11_a=np.array(e11.tolist())\n",
    "\n",
    "dec=df_ele[(df_ele.年度==2017)&(df_ele.月份==12)]\n",
    "e12=dec[\"發電量(度)\"].apply(locale.atof)\n",
    "e12_a=np.array(e12.tolist())"
   ]
  },
  {
   "cell_type": "code",
   "execution_count": 355,
   "metadata": {},
   "outputs": [],
   "source": [
    "e=(e1_a+e2_a+e3_a+e4_a+e5_a+e6_a+e7_a+e8_a+e9_a+e10_a+e11_a+e12_a)/12\n",
    "e_l=e.tolist()"
   ]
  },
  {
   "cell_type": "code",
   "execution_count": 358,
   "metadata": {},
   "outputs": [
    {
     "data": {
      "text/plain": [
       "<BarContainer object of 16 artists>"
      ]
     },
     "execution_count": 358,
     "metadata": {},
     "output_type": "execute_result"
    },
    {
     "data": {
      "image/png": "[encoded data removed]",
      "text/plain": [
       "<Figure size 640x480 with 1 Axes>"
      ]
     },
     "metadata": {},
     "output_type": "display_data"
    }
   ],
   "source": [
    "plt.figure(figsize=(8,6),dpi=80)\n",
    "plt.xticks(rotation=90,fontsize=15)\n",
    "plt.bar(jan[\"光電站名稱\"],e_l,width=0.5)"
   ]
  },
  {
   "cell_type": "code",
   "execution_count": null,
   "metadata": {},
   "outputs": [],
   "source": []
  }
 ],
 "metadata": {
  "kernelspec": {
   "display_name": "Python 3",
   "language": "python",
   "name": "python3"
  },
  "language_info": {
   "codemirror_mode": {
    "name": "ipython",
    "version": 3
   },
   "file_extension": ".py",
   "mimetype": "text/x-python",
   "name": "python",
   "nbconvert_exporter": "python",
   "pygments_lexer": "ipython3",
   "version": "3.6.5"
  }
 },
 "nbformat": 4,
 "nbformat_minor": 2
}
