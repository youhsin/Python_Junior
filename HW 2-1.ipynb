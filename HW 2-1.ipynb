{
 "cells": [
  {
   "cell_type": "code",
   "execution_count": 1,
   "metadata": {},
   "outputs": [],
   "source": [
    "%matplotlib inline\n",
    "\n",
    "import numpy as np\n",
    "import matplotlib.pyplot as plt\n",
    "from ipywidgets import interact\n",
    "from PIL import Image"
   ]
  },
  {
   "cell_type": "code",
   "execution_count": 9,
   "metadata": {},
   "outputs": [
    {
     "data": {
      "application/vnd.jupyter.widget-view+json": {
       "model_id": "40960cb1e557400f888cbc0abbb4b9aa",
       "version_major": 2,
       "version_minor": 0
      },
      "text/plain": [
       "interactive(children=(IntSlider(value=0, description='a', max=10, min=-10), IntSlider(value=0, description='b'…"
      ]
     },
     "metadata": {},
     "output_type": "display_data"
    },
    {
     "data": {
      "text/plain": [
       "<function __main__.drawline(a, b)>"
      ]
     },
     "execution_count": 9,
     "metadata": {},
     "output_type": "execute_result"
    }
   ],
   "source": [
    "def drawline(a, b):\n",
    "    t = np.linspace(-10,10,100)\n",
    "    x=100*np.cos(t)\n",
    "    y=100*np.sin(t)\n",
    "    plt.plot(x,y)\n",
    "    x1=np.linspace(1,50,100)\n",
    "    y1=0*x1\n",
    "    plt.plot(x1,y1+a)\n",
    "interact(drawline, a=(-10,10), b=(-10,10))"
   ]
  },
  {
   "cell_type": "code",
   "execution_count": 36,
   "metadata": {},
   "outputs": [
    {
     "data": {
      "application/vnd.jupyter.widget-view+json": {
       "model_id": "a795d6bcbb984cbe92292354a01a6b39",
       "version_major": 2,
       "version_minor": 0
      },
      "text/plain": [
       "interactive(children=(FloatSlider(value=25.0, description='a', max=50.0), Output()), _dom_classes=('widget-int…"
      ]
     },
     "metadata": {},
     "output_type": "display_data"
    },
    {
     "data": {
      "text/plain": [
       "<function __main__.drawline(a)>"
      ]
     },
     "execution_count": 36,
     "metadata": {},
     "output_type": "execute_result"
    }
   ],
   "source": [
    "def clock(a):\n",
    "    theta=0.01*np.pi*a#hour\n",
    "    x=np.cos(theta)\n",
    "    y=np.sin(theta)\n",
    "    plt.plot([x,0],[y,0])\n",
    "    \n",
    "    theta=0.12*np.pi*a#min\n",
    "    x=2*np.cos(theta)\n",
    "    y=2*np.sin(theta)\n",
    "    plt.plot([x,0],[y,0])\n",
    "    \n",
    "    t = np.linspace(-10,10,100)#circle\n",
    "    x1=3*np.cos(t)\n",
    "    y1=3*np.sin(t)\n",
    "    plt.plot(x1,y1)\n",
    "interact(clock, a=(0,50.))"
   ]
  },
  {
   "cell_type": "code",
   "execution_count": 93,
   "metadata": {},
   "outputs": [
    {
     "data": {
      "text/plain": [
       "-1.2246467991473532e-16"
      ]
     },
     "execution_count": 93,
     "metadata": {},
     "output_type": "execute_result"
    }
   ],
   "source": [
    "y/x"
   ]
  },
  {
   "cell_type": "code",
   "execution_count": 19,
   "metadata": {},
   "outputs": [],
   "source": [
    "im=Image.open(\"img1.png\")\n",
    "im.show()\n",
    "for i in range(0,10):\n",
    "    im_rotate=im.rotate(i)\n",
    "    im_rotate.show()\n"
   ]
  },
  {
   "cell_type": "code",
   "execution_count": null,
   "metadata": {},
   "outputs": [],
   "source": []
  }
 ],
 "metadata": {
  "kernelspec": {
   "display_name": "Python 3",
   "language": "python",
   "name": "python3"
  },
  "language_info": {
   "codemirror_mode": {
    "name": "ipython",
    "version": 3
   },
   "file_extension": ".py",
   "mimetype": "text/x-python",
   "name": "python",
   "nbconvert_exporter": "python",
   "pygments_lexer": "ipython3",
   "version": "3.6.5"
  }
 },
 "nbformat": 4,
 "nbformat_minor": 2
}
