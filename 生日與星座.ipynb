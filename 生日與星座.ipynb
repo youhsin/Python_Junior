{
 "cells": [
  {
   "cell_type": "markdown",
   "metadata": {},
   "source": [
    "# 生日與星座\n",
    "### 輸入生日判斷所輸入生日的星座為何\n",
    "需要利用每個星座對應的的生日範圍進行判斷"
   ]
  },
  {
   "cell_type": "code",
   "execution_count": 2,
   "metadata": {},
   "outputs": [],
   "source": [
    "%matplotlib inline\n",
    "import numpy as np\n",
    "import matplotlib.pyplot as plt\n",
    "from ipywidgets import interact"
   ]
  },
  {
   "cell_type": "code",
   "execution_count": 3,
   "metadata": {},
   "outputs": [
    {
     "name": "stdout",
     "output_type": "stream",
     "text": [
      "[[6 1 9]\n",
      " [1 1 8]\n",
      " [8 8 6]]\n"
     ]
    },
    {
     "data": {
      "text/plain": [
       "3"
      ]
     },
     "execution_count": 3,
     "metadata": {},
     "output_type": "execute_result"
    }
   ],
   "source": [
    "a=np.random.randint(0,10,size=[3,3])\n",
    "print(a)\n",
    "np.linalg.matrix_rank(a)"
   ]
  },
  {
   "cell_type": "code",
   "execution_count": 7,
   "metadata": {},
   "outputs": [
    {
     "data": {
      "text/plain": [
       "3"
      ]
     },
     "execution_count": 7,
     "metadata": {},
     "output_type": "execute_result"
    }
   ],
   "source": [
    "np.linalg.matrix_rank(a)"
   ]
  },
  {
   "cell_type": "code",
   "execution_count": 10,
   "metadata": {},
   "outputs": [
    {
     "name": "stdout",
     "output_type": "stream",
     "text": [
      ">>0214\n"
     ]
    }
   ],
   "source": [
    "birthday=int(input(\">>\"))"
   ]
  },
  {
   "cell_type": "code",
   "execution_count": 48,
   "metadata": {},
   "outputs": [
    {
     "name": "stdout",
     "output_type": "stream",
     "text": [
      "生日>>1\n",
      "別鬧勒\n",
      "生日>>101\n",
      "摩羯座\n"
     ]
    }
   ],
   "source": [
    "birthday=1\n",
    "while not (birthday>=101) or not (birthday<=1231) :\n",
    "    birthday=int(input(\"生日>>\"))\n",
    "    if (birthday>=120) & (birthday<=218):\n",
    "        print(\"水瓶座\")\n",
    "    elif (birthday>=219) & (birthday<=320):\n",
    "        print(\"雙魚座\")\n",
    "    elif (birthday>=321) & (birthday<=419):\n",
    "        print(\"牡羊座\")\n",
    "    elif (birthday>=420) & (birthday<=520):\n",
    "        print(\"金牛座\")\n",
    "    elif (birthday>=521) & (birthday<=621):\n",
    "        print(\"雙子座\")\n",
    "    elif (birthday>=622) & (birthday<=722):\n",
    "        print(\"巨蟹座\")\n",
    "    elif (birthday>=723) & (birthday<=822):\n",
    "        print(\"獅子座\")\n",
    "    elif (birthday>=823) & (birthday<=922):\n",
    "        print(\"處女座\")\n",
    "    elif (birthday>=923) & (birthday<=1023):\n",
    "        print(\"天秤座\")\n",
    "    elif (birthday>=1024) & (birthday<=1122):\n",
    "        print(\"天蠍座\")\n",
    "    elif (birthday>=1123) & (birthday<=1221):\n",
    "        print(\"射手座\")\n",
    "    elif (birthday>=1222) & (birthday<=1231):\n",
    "        print(\"摩羯座\")\n",
    "    elif (birthday>=101) & (birthday<=119):\n",
    "        print(\"摩羯座\")\n",
    "    else:\n",
    "        print(\"別鬧勒\")\n",
    "    "
   ]
  },
  {
   "cell_type": "code",
   "execution_count": null,
   "metadata": {},
   "outputs": [],
   "source": []
  },
  {
   "cell_type": "code",
   "execution_count": null,
   "metadata": {},
   "outputs": [],
   "source": []
  }
 ],
 "metadata": {
  "kernelspec": {
   "display_name": "Python 3",
   "language": "python",
   "name": "python3"
  },
  "language_info": {
   "codemirror_mode": {
    "name": "ipython",
    "version": 3
   },
   "file_extension": ".py",
   "mimetype": "text/x-python",
   "name": "python",
   "nbconvert_exporter": "python",
   "pygments_lexer": "ipython3",
   "version": "3.6.5"
  }
 },
 "nbformat": 4,
 "nbformat_minor": 2
}
