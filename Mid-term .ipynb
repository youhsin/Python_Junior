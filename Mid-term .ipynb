{
 "cells": [
  {
   "cell_type": "markdown",
   "metadata": {},
   "source": [
    "# 我的”偉大“匯率換算程式\n",
    "### 簡單介紹一下\n",
    "- 找到匯率換算的資料\n",
    "- 把所以大部分幣值換成兌台幣\n",
    "- 輸入自己想找的幣值顯示出來"
   ]
  },
  {
   "cell_type": "code",
   "execution_count": 1,
   "metadata": {},
   "outputs": [],
   "source": [
    "import numpy as np\n",
    "import matplotlib.pyplot as plt\n",
    "import pandas as pd"
   ]
  },
  {
   "cell_type": "markdown",
   "metadata": {},
   "source": [
    "## STEP 1\n",
    "匯入匯率資料"
   ]
  },
  {
   "cell_type": "code",
   "execution_count": 2,
   "metadata": {},
   "outputs": [],
   "source": [
    "url=\"http://www.taifex.com.tw/data_gov/taifex_open_data.asp?data_name=DailyForeignExchangeRates\"\n",
    "df=pd.read_csv(url,encoding='big5')"
   ]
  },
  {
   "cell_type": "code",
   "execution_count": 3,
   "metadata": {},
   "outputs": [],
   "source": [
    "df2=df.loc[:,\"日期\":\"人民幣／新台幣\"]"
   ]
  },
  {
   "cell_type": "code",
   "execution_count": 4,
   "metadata": {
    "scrolled": true
   },
   "outputs": [
    {
     "data": {
      "text/html": [
       "<div>\n",
       "<style scoped>\n",
       "    .dataframe tbody tr th:only-of-type {\n",
       "        vertical-align: middle;\n",
       "    }\n",
       "\n",
       "    .dataframe tbody tr th {\n",
       "        vertical-align: top;\n",
       "    }\n",
       "\n",
       "    .dataframe thead th {\n",
       "        text-align: right;\n",
       "    }\n",
       "</style>\n",
       "<table border=\"1\" class=\"dataframe\">\n",
       "  <thead>\n",
       "    <tr style=\"text-align: right;\">\n",
       "      <th></th>\n",
       "      <th>日期</th>\n",
       "      <th>美元／新台幣</th>\n",
       "      <th>人民幣／新台幣</th>\n",
       "    </tr>\n",
       "  </thead>\n",
       "  <tbody>\n",
       "    <tr>\n",
       "      <th>0</th>\n",
       "      <td>2019/3/4</td>\n",
       "      <td>30.830</td>\n",
       "      <td>4.602549</td>\n",
       "    </tr>\n",
       "    <tr>\n",
       "      <th>1</th>\n",
       "      <td>2019/3/5</td>\n",
       "      <td>30.847</td>\n",
       "      <td>4.598671</td>\n",
       "    </tr>\n",
       "    <tr>\n",
       "      <th>2</th>\n",
       "      <td>2019/3/6</td>\n",
       "      <td>30.852</td>\n",
       "      <td>4.592814</td>\n",
       "    </tr>\n",
       "    <tr>\n",
       "      <th>3</th>\n",
       "      <td>2019/3/7</td>\n",
       "      <td>30.869</td>\n",
       "      <td>4.596394</td>\n",
       "    </tr>\n",
       "    <tr>\n",
       "      <th>4</th>\n",
       "      <td>2019/3/8</td>\n",
       "      <td>30.902</td>\n",
       "      <td>4.588422</td>\n",
       "    </tr>\n",
       "  </tbody>\n",
       "</table>\n",
       "</div>"
      ],
      "text/plain": [
       "         日期  美元／新台幣   人民幣／新台幣\n",
       "0  2019/3/4  30.830  4.602549\n",
       "1  2019/3/5  30.847  4.598671\n",
       "2  2019/3/6  30.852  4.592814\n",
       "3  2019/3/7  30.869  4.596394\n",
       "4  2019/3/8  30.902  4.588422"
      ]
     },
     "execution_count": 4,
     "metadata": {},
     "output_type": "execute_result"
    }
   ],
   "source": [
    "df2.head()"
   ]
  },
  {
   "cell_type": "code",
   "execution_count": 5,
   "metadata": {},
   "outputs": [
    {
     "data": {
      "text/html": [
       "<div>\n",
       "<style scoped>\n",
       "    .dataframe tbody tr th:only-of-type {\n",
       "        vertical-align: middle;\n",
       "    }\n",
       "\n",
       "    .dataframe tbody tr th {\n",
       "        vertical-align: top;\n",
       "    }\n",
       "\n",
       "    .dataframe thead th {\n",
       "        text-align: right;\n",
       "    }\n",
       "</style>\n",
       "<table border=\"1\" class=\"dataframe\">\n",
       "  <thead>\n",
       "    <tr style=\"text-align: right;\">\n",
       "      <th></th>\n",
       "      <th>日期</th>\n",
       "      <th>美元／新台幣</th>\n",
       "      <th>人民幣／新台幣</th>\n",
       "      <th>歐元／美元</th>\n",
       "      <th>美元／日幣</th>\n",
       "      <th>英鎊／美元</th>\n",
       "      <th>澳幣／美元</th>\n",
       "      <th>美元／港幣</th>\n",
       "      <th>美元／人民幣</th>\n",
       "      <th>美元／南非幣</th>\n",
       "      <th>紐幣／美元</th>\n",
       "    </tr>\n",
       "  </thead>\n",
       "  <tbody>\n",
       "    <tr>\n",
       "      <th>0</th>\n",
       "      <td>2019/3/4</td>\n",
       "      <td>30.830</td>\n",
       "      <td>4.602549</td>\n",
       "      <td>1.13450</td>\n",
       "      <td>111.865</td>\n",
       "      <td>1.32400</td>\n",
       "      <td>0.70830</td>\n",
       "      <td>7.84905</td>\n",
       "      <td>6.69845</td>\n",
       "      <td>14.23755</td>\n",
       "      <td>0.68080</td>\n",
       "    </tr>\n",
       "    <tr>\n",
       "      <th>1</th>\n",
       "      <td>2019/3/5</td>\n",
       "      <td>30.847</td>\n",
       "      <td>4.598671</td>\n",
       "      <td>1.13185</td>\n",
       "      <td>111.940</td>\n",
       "      <td>1.31700</td>\n",
       "      <td>0.70760</td>\n",
       "      <td>7.84965</td>\n",
       "      <td>6.70780</td>\n",
       "      <td>14.18950</td>\n",
       "      <td>0.67930</td>\n",
       "    </tr>\n",
       "    <tr>\n",
       "      <th>2</th>\n",
       "      <td>2019/3/6</td>\n",
       "      <td>30.852</td>\n",
       "      <td>4.592814</td>\n",
       "      <td>1.13035</td>\n",
       "      <td>111.815</td>\n",
       "      <td>1.31375</td>\n",
       "      <td>0.70360</td>\n",
       "      <td>7.84985</td>\n",
       "      <td>6.71745</td>\n",
       "      <td>14.17770</td>\n",
       "      <td>0.67810</td>\n",
       "    </tr>\n",
       "    <tr>\n",
       "      <th>3</th>\n",
       "      <td>2019/3/7</td>\n",
       "      <td>30.869</td>\n",
       "      <td>4.596394</td>\n",
       "      <td>1.13075</td>\n",
       "      <td>111.775</td>\n",
       "      <td>1.31685</td>\n",
       "      <td>0.70400</td>\n",
       "      <td>7.84985</td>\n",
       "      <td>6.71590</td>\n",
       "      <td>14.26800</td>\n",
       "      <td>0.67800</td>\n",
       "    </tr>\n",
       "    <tr>\n",
       "      <th>4</th>\n",
       "      <td>2019/3/8</td>\n",
       "      <td>30.902</td>\n",
       "      <td>4.588422</td>\n",
       "      <td>1.12015</td>\n",
       "      <td>111.065</td>\n",
       "      <td>1.30885</td>\n",
       "      <td>0.70065</td>\n",
       "      <td>7.84985</td>\n",
       "      <td>6.73480</td>\n",
       "      <td>14.56610</td>\n",
       "      <td>0.67585</td>\n",
       "    </tr>\n",
       "  </tbody>\n",
       "</table>\n",
       "</div>"
      ],
      "text/plain": [
       "         日期  美元／新台幣   人民幣／新台幣    歐元／美元    美元／日幣    英鎊／美元    澳幣／美元    美元／港幣  \\\n",
       "0  2019/3/4  30.830  4.602549  1.13450  111.865  1.32400  0.70830  7.84905   \n",
       "1  2019/3/5  30.847  4.598671  1.13185  111.940  1.31700  0.70760  7.84965   \n",
       "2  2019/3/6  30.852  4.592814  1.13035  111.815  1.31375  0.70360  7.84985   \n",
       "3  2019/3/7  30.869  4.596394  1.13075  111.775  1.31685  0.70400  7.84985   \n",
       "4  2019/3/8  30.902  4.588422  1.12015  111.065  1.30885  0.70065  7.84985   \n",
       "\n",
       "    美元／人民幣    美元／南非幣    紐幣／美元  \n",
       "0  6.69845  14.23755  0.68080  \n",
       "1  6.70780  14.18950  0.67930  \n",
       "2  6.71745  14.17770  0.67810  \n",
       "3  6.71590  14.26800  0.67800  \n",
       "4  6.73480  14.56610  0.67585  "
      ]
     },
     "execution_count": 5,
     "metadata": {},
     "output_type": "execute_result"
    }
   ],
   "source": [
    "df.head()"
   ]
  },
  {
   "cell_type": "markdown",
   "metadata": {},
   "source": [
    "## STEP 2\n",
    "改成兌台幣"
   ]
  },
  {
   "cell_type": "code",
   "execution_count": 6,
   "metadata": {},
   "outputs": [],
   "source": [
    "df2[\"歐元／新台幣\"]=df[\"美元／新台幣\"]*df[\"歐元／美元\"]\n",
    "df2[\"日幣／新台幣\"]=df[\"美元／新台幣\"]/df[\"美元／日幣\"]\n",
    "df2[\"英鎊／新台幣\"]=df[\"美元／新台幣\"]*df[\"英鎊／美元\"]\n",
    "df2[\"澳幣／新台幣\"]=df[\"美元／新台幣\"]*df[\"澳幣／美元\"]\n",
    "df2[\"港幣／新台幣\"]=df[\"美元／新台幣\"]/df[\"美元／港幣\"]\n",
    "df2[\"紐幣／新台幣\"]=df[\"美元／新台幣\"]*df[\"紐幣／美元\"]"
   ]
  },
  {
   "cell_type": "code",
   "execution_count": 7,
   "metadata": {},
   "outputs": [],
   "source": [
    "df3=df2\n",
    "columns_name=[\"日期\",\"美元\",\"人民幣\",\"歐元\",\"日幣\",\"英鎊\",\"澳幣\",\"港幣\",\"紐幣\"]\n",
    "df3.columns=columns_name"
   ]
  },
  {
   "cell_type": "markdown",
   "metadata": {},
   "source": [
    "## STEP 3\n",
    "輸入幣種與日期"
   ]
  },
  {
   "cell_type": "code",
   "execution_count": 8,
   "metadata": {},
   "outputs": [
    {
     "name": "stdout",
     "output_type": "stream",
     "text": [
      "請輸入日期,範例2019/1/1>>2019/4/15\n",
      "請輸入要查什麼幣>>英鎊\n"
     ]
    }
   ],
   "source": [
    "date=input(\"請輸入日期,範例2019/1/1>>\")\n",
    "country=input(\"請輸入要查什麼幣>>\")"
   ]
  },
  {
   "cell_type": "code",
   "execution_count": 11,
   "metadata": {},
   "outputs": [
    {
     "data": {
      "text/html": [
       "<div>\n",
       "<style scoped>\n",
       "    .dataframe tbody tr th:only-of-type {\n",
       "        vertical-align: middle;\n",
       "    }\n",
       "\n",
       "    .dataframe tbody tr th {\n",
       "        vertical-align: top;\n",
       "    }\n",
       "\n",
       "    .dataframe thead th {\n",
       "        text-align: right;\n",
       "    }\n",
       "</style>\n",
       "<table border=\"1\" class=\"dataframe\">\n",
       "  <thead>\n",
       "    <tr style=\"text-align: right;\">\n",
       "      <th></th>\n",
       "      <th>日期</th>\n",
       "      <th>英鎊</th>\n",
       "    </tr>\n",
       "  </thead>\n",
       "  <tbody>\n",
       "    <tr>\n",
       "      <th>28</th>\n",
       "      <td>2019/4/15</td>\n",
       "      <td>40.43446</td>\n",
       "    </tr>\n",
       "  </tbody>\n",
       "</table>\n",
       "</div>"
      ],
      "text/plain": [
       "           日期        英鎊\n",
       "28  2019/4/15  40.43446"
      ]
     },
     "execution_count": 11,
     "metadata": {},
     "output_type": "execute_result"
    }
   ],
   "source": [
    "df3[df3[\"日期\"]==date][['日期',country]]"
   ]
  },
  {
   "cell_type": "code",
   "execution_count": 10,
   "metadata": {},
   "outputs": [
    {
     "data": {
      "text/html": [
       "<div>\n",
       "<style scoped>\n",
       "    .dataframe tbody tr th:only-of-type {\n",
       "        vertical-align: middle;\n",
       "    }\n",
       "\n",
       "    .dataframe tbody tr th {\n",
       "        vertical-align: top;\n",
       "    }\n",
       "\n",
       "    .dataframe thead th {\n",
       "        text-align: right;\n",
       "    }\n",
       "</style>\n",
       "<table border=\"1\" class=\"dataframe\">\n",
       "  <thead>\n",
       "    <tr style=\"text-align: right;\">\n",
       "      <th></th>\n",
       "      <th>日期</th>\n",
       "      <th>美元</th>\n",
       "      <th>人民幣</th>\n",
       "      <th>歐元</th>\n",
       "      <th>日幣</th>\n",
       "      <th>英鎊</th>\n",
       "      <th>澳幣</th>\n",
       "      <th>港幣</th>\n",
       "      <th>紐幣</th>\n",
       "    </tr>\n",
       "  </thead>\n",
       "  <tbody>\n",
       "    <tr>\n",
       "      <th>0</th>\n",
       "      <td>2019/3/4</td>\n",
       "      <td>30.830</td>\n",
       "      <td>4.602549</td>\n",
       "      <td>34.976635</td>\n",
       "      <td>0.275600</td>\n",
       "      <td>40.818920</td>\n",
       "      <td>21.836889</td>\n",
       "      <td>3.927864</td>\n",
       "      <td>20.989064</td>\n",
       "    </tr>\n",
       "    <tr>\n",
       "      <th>1</th>\n",
       "      <td>2019/3/5</td>\n",
       "      <td>30.847</td>\n",
       "      <td>4.598671</td>\n",
       "      <td>34.914177</td>\n",
       "      <td>0.275567</td>\n",
       "      <td>40.625499</td>\n",
       "      <td>21.827337</td>\n",
       "      <td>3.929729</td>\n",
       "      <td>20.954367</td>\n",
       "    </tr>\n",
       "    <tr>\n",
       "      <th>2</th>\n",
       "      <td>2019/3/6</td>\n",
       "      <td>30.852</td>\n",
       "      <td>4.592814</td>\n",
       "      <td>34.873558</td>\n",
       "      <td>0.275920</td>\n",
       "      <td>40.531815</td>\n",
       "      <td>21.707467</td>\n",
       "      <td>3.930266</td>\n",
       "      <td>20.920741</td>\n",
       "    </tr>\n",
       "    <tr>\n",
       "      <th>3</th>\n",
       "      <td>2019/3/7</td>\n",
       "      <td>30.869</td>\n",
       "      <td>4.596394</td>\n",
       "      <td>34.905122</td>\n",
       "      <td>0.276171</td>\n",
       "      <td>40.649843</td>\n",
       "      <td>21.731776</td>\n",
       "      <td>3.932432</td>\n",
       "      <td>20.929182</td>\n",
       "    </tr>\n",
       "    <tr>\n",
       "      <th>4</th>\n",
       "      <td>2019/3/8</td>\n",
       "      <td>30.902</td>\n",
       "      <td>4.588422</td>\n",
       "      <td>34.614875</td>\n",
       "      <td>0.278233</td>\n",
       "      <td>40.446083</td>\n",
       "      <td>21.651486</td>\n",
       "      <td>3.936636</td>\n",
       "      <td>20.885117</td>\n",
       "    </tr>\n",
       "  </tbody>\n",
       "</table>\n",
       "</div>"
      ],
      "text/plain": [
       "         日期      美元       人民幣         歐元        日幣         英鎊         澳幣  \\\n",
       "0  2019/3/4  30.830  4.602549  34.976635  0.275600  40.818920  21.836889   \n",
       "1  2019/3/5  30.847  4.598671  34.914177  0.275567  40.625499  21.827337   \n",
       "2  2019/3/6  30.852  4.592814  34.873558  0.275920  40.531815  21.707467   \n",
       "3  2019/3/7  30.869  4.596394  34.905122  0.276171  40.649843  21.731776   \n",
       "4  2019/3/8  30.902  4.588422  34.614875  0.278233  40.446083  21.651486   \n",
       "\n",
       "         港幣         紐幣  \n",
       "0  3.927864  20.989064  \n",
       "1  3.929729  20.954367  \n",
       "2  3.930266  20.920741  \n",
       "3  3.932432  20.929182  \n",
       "4  3.936636  20.885117  "
      ]
     },
     "execution_count": 10,
     "metadata": {},
     "output_type": "execute_result"
    }
   ],
   "source": [
    "df3.head()"
   ]
  },
  {
   "cell_type": "code",
   "execution_count": null,
   "metadata": {},
   "outputs": [],
   "source": []
  }
 ],
 "metadata": {
  "kernelspec": {
   "display_name": "Python 3",
   "language": "python",
   "name": "python3"
  },
  "language_info": {
   "codemirror_mode": {
    "name": "ipython",
    "version": 3
   },
   "file_extension": ".py",
   "mimetype": "text/x-python",
   "name": "python",
   "nbconvert_exporter": "python",
   "pygments_lexer": "ipython3",
   "version": "3.6.5"
  }
 },
 "nbformat": 4,
 "nbformat_minor": 2
}
